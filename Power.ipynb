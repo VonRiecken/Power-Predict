{
 "cells": [
  {
   "cell_type": "code",
   "execution_count": 16,
   "id": "2fc611e1-e462-4303-af17-a72cca973f3d",
   "metadata": {},
   "outputs": [],
   "source": [
    "import pandas as pd\n",
    "from pyxlsb import open_workbook as open_xlsb\n",
    "\n",
    "import numpy as np \n",
    "import seaborn as sns\n",
    "import matplotlib.pyplot as plt\n",
    "from sklearn.metrics import mean_squared_error\n",
    "from sklearn.metrics import mean_absolute_error"
   ]
  },
  {
   "cell_type": "code",
   "execution_count": 14,
   "id": "9da5857f-f4bb-4688-9757-98f35f0b9fa8",
   "metadata": {},
   "outputs": [],
   "source": [
    "url = 'https://www.iea.org/data-and-statistics/data-product/weather-for-energy-tracker/data.xlsb'"
   ]
  },
  {
   "cell_type": "markdown",
   "id": "b4541740-5ee9-4cb7-a27b-05c50e134674",
   "metadata": {},
   "source": [
    "##### XGBoost to forecast Monthly renewable energy generation per country. GWh per year"
   ]
  },
  {
   "cell_type": "code",
   "execution_count": null,
   "id": "bfa94048-e5d2-429c-801f-5c2a56b27acd",
   "metadata": {},
   "outputs": [],
   "source": [
    "import pandas as pd\n",
    "df=pd.read_csv('file.csv',index_col='DateTime')\n",
    "df.drop_duplicates(inplace=True)\n",
    "\n",
    "#convert index to datetime object \n",
    "df.index=pd.to_datetime(df.index,dayfirst=True)\n",
    "\n",
    "#change sampling rate to 1 sample per hour\n",
    "df=df.resample('1440T').mean() ##1440 mins in 1 day"
   ]
  },
  {
   "cell_type": "markdown",
   "id": "2466fb38-70ef-4035-9e32-3aa18ab923c0",
   "metadata": {},
   "source": [
    "##### Daily Renewable Energy power Generation GWh/Country"
   ]
  },
  {
   "cell_type": "code",
   "execution_count": null,
   "id": "069b939f-07c7-4687-9d3e-9d4f31dafb33",
   "metadata": {},
   "outputs": [],
   "source": []
  },
  {
   "cell_type": "markdown",
   "id": "595a17d6-c121-48d5-80da-805efd5a2a84",
   "metadata": {},
   "source": [
    "##### Features"
   ]
  },
  {
   "cell_type": "code",
   "execution_count": null,
   "id": "fcfd2b97-ae79-4912-b4d8-8196fad1ae5d",
   "metadata": {},
   "outputs": [],
   "source": [
    "features = ['Combustible Renewables', 'Hydro', 'Wind', 'Solar',\n",
    "            'Total Renewables (Hydro, Geo, Solar, Wind, Other)', 'Other Renewables']\n",
    "\n",
    "df['month'] = df.index.month\n",
    "df['combustible renewables'] = df['Combustible Renewables']\n",
    "df['hydro'] = df['Hydro']\n",
    "df['wind'] = df['Wind']\n",
    "df['solar'] = df['Solar']\n",
    "df['total renewables'] = df['Total Renewables']\n",
    "df['other renewables'] = df['Other Renewables']"
   ]
  },
  {
   "cell_type": "markdown",
   "id": "89ca4470-3a86-4cd5-a8f7-07a014a3fba1",
   "metadata": {},
   "source": [
    "#### Average Monthly Renewable Power Generation"
   ]
  },
  {
   "cell_type": "code",
   "execution_count": null,
   "id": "4720ae43-fa8d-4f72-b20d-e533f3883fed",
   "metadata": {},
   "outputs": [],
   "source": []
  },
  {
   "cell_type": "markdown",
   "id": "a9c2e671-6bbf-4c9c-8ab6-e427faa4fe17",
   "metadata": {},
   "source": [
    "### Feature engineering - after removing NaNs"
   ]
  },
  {
   "cell_type": "code",
   "execution_count": null,
   "id": "46bdd005-6f84-453e-8e76-09f989019b99",
   "metadata": {},
   "outputs": [],
   "source": [
    "df.fillna(0,inplace=True)\n",
    "lags=40\n",
    "for x in range(1,lags+1):\n",
    "  df[f'lag{x}']=df['P'].shift(x)"
   ]
  },
  {
   "cell_type": "markdown",
   "id": "196e39f7-0d64-44c2-a454-3488accb16b3",
   "metadata": {},
   "source": [
    "### Train & Test Data (5 years of training, 1 year for each development and testing"
   ]
  },
  {
   "cell_type": "code",
   "execution_count": null,
   "id": "5c47b33c-353b-4132-ab54-35bb4c0d1a3f",
   "metadata": {},
   "outputs": [],
   "source": [
    "train_df = df [:'2018']\n",
    "dev_df=df['2018:2023']\n",
    "test_df=df['2023']"
   ]
  },
  {
   "cell_type": "code",
   "execution_count": null,
   "id": "1adc71a5-0718-4482-bc38-8879c55daec5",
   "metadata": {},
   "outputs": [],
   "source": []
  },
  {
   "cell_type": "code",
   "execution_count": null,
   "id": "0b19c7d2-6b1d-4723-9eee-2488f489063d",
   "metadata": {},
   "outputs": [],
   "source": []
  },
  {
   "cell_type": "code",
   "execution_count": null,
   "id": "1f6c4448-2d2e-40e1-803a-214f5c99cb57",
   "metadata": {},
   "outputs": [],
   "source": [
    "import pandas as pd\n",
    "df=pd.read_csv('PV_generation.csv',index_col='DateTime')\n",
    "df.drop_duplicates(inplace=True)\n",
    "#convert index to datetime object \n",
    "df.index=pd.to_datetime(df.index,dayfirst=True)\n",
    "#change sampling rate to 1 sample per hour\n",
    "df=df.resample('60T').mean()"
   ]
  },
  {
   "cell_type": "code",
   "execution_count": null,
   "id": "868f1945-307e-45e1-80bb-455f0326530f",
   "metadata": {},
   "outputs": [],
   "source": []
  },
  {
   "cell_type": "code",
   "execution_count": null,
   "id": "788c8e73-65b2-45a8-b70f-096232d7826e",
   "metadata": {},
   "outputs": [],
   "source": [
    "split_date = '01-Jan-2015'\n",
    "power_train = power_loc[power.index <= split_date]copy()\n",
    "power_test = power_loc[power.index > split_ddate].copy()\n",
    "_ = power_test \\ .rename(columns={'power_MW': 'Test Set'})\\.join(power_train.rename(comlumns={'power_MW': 'Training Set'}),\n",
    "                                                                 how='outer')\\plot(figsize=(15,5), title='Power East', style='.'\n",
    "                                                                                   \n"
   ]
  },
  {
   "cell_type": "code",
   "execution_count": null,
   "id": "08ab199b-61ba-4c3e-954a-5a15fe5e09f3",
   "metadata": {},
   "outputs": [],
   "source": []
  },
  {
   "cell_type": "code",
   "execution_count": null,
   "id": "61f297d4-14e8-4db8-b8a3-8d6e35812c72",
   "metadata": {},
   "outputs": [],
   "source": []
  },
  {
   "cell_type": "markdown",
   "id": "07cc8b35-cea0-42cc-a592-a2e32e5c044b",
   "metadata": {},
   "source": [
    "### Create feature comlumns for Time series    "
   ]
  },
  {
   "cell_type": "code",
   "execution_count": 11,
   "id": "f724fae7-6632-4628-b332-42146800d555",
   "metadata": {},
   "outputs": [],
   "source": [
    "def create_featurees (df, label=None):\n",
    "    \"\"\"\n",
    "    Creates time series features date column\n",
    "    \"\"\"\n",
    "    df['date'] = df.index\n",
    "    df['hour'] = df['date'].dt.hour\n",
    "    df['dayofweek'] = df['date'].dt.dayofweek\n",
    "    df['quarter'] = df['date'].dt.quarter\n",
    "    df['month'] = df['date'].dt.month\n",
    "    df['year'] = df['date'].dt.year\n",
    "    df['dayofyear'] = df['date'].dt.dayofyear\n",
    "    df['dayofmonth'] = df['date'].dt.day\n",
    "    df['weekofyear'] = df['date'].dt.weekofyear\n",
    "    \n",
    "    X = df[['hour','dayofweek','quarter','month','year',\n",
    "           'dayofyear','dayofmonth','weekofyear']]\n",
    "    if label:\n",
    "        y = df[label]\n",
    "        return X, y\n",
    "    return X\n"
   ]
  },
  {
   "cell_type": "code",
   "execution_count": null,
   "id": "8393f569-06c1-4bf4-94d6-3cf60e102597",
   "metadata": {},
   "outputs": [],
   "source": [
    "X_train, y_train = create_features(pjme_train, label='Power_GWh')\n",
    "X_test, y_test = create_features(pjme_test, label='Power_GWh')"
   ]
  },
  {
   "cell_type": "code",
   "execution_count": null,
   "id": "96ed9b89-c89a-4b2c-898e-408ce6f34bdb",
   "metadata": {},
   "outputs": [],
   "source": [
    "reg = xgb.XGBRegressor(n_estimators=1000)\n",
    "reg.fit(X_train, y_train,\n",
    "        eval_set=[(X_set, y_train), X_test, y_test],\n",
    "        early_stopping_rounds=50,\n",
    "        verbose=true\n"
   ]
  },
  {
   "cell_type": "markdown",
   "id": "dc478d2f-0f82-4c7b-a501-31412b696cf0",
   "metadata": {},
   "source": [
    "### Feature Importance"
   ]
  },
  {
   "cell_type": "code",
   "execution_count": null,
   "id": "d39aa942-c060-4506-a6bc-c681d4d1cf50",
   "metadata": {},
   "outputs": [],
   "source": [
    "_ = plot_importance (reg, height=0.9)"
   ]
  },
  {
   "cell_type": "code",
   "execution_count": null,
   "id": "0470d840-c3a1-4ce8-8247-7b2f8cd4489b",
   "metadata": {},
   "outputs": [],
   "source": [
    "power_test = ['GWh_Prediction] = reg.predict(X_test)\n",
    "power_all = pd.concat([power_test, power_train], sort=False)\n",
    "power_test.head(3)\n"
   ]
  },
  {
   "cell_type": "code",
   "execution_count": null,
   "id": "d3f63039-0733-43d3-b461-aa203a308817",
   "metadata": {},
   "outputs": [],
   "source": [
    "power_all.head()\n"
   ]
  },
  {
   "cell_type": "code",
   "execution_count": null,
   "id": "b9929586-5dfa-4979-9efc-2fe51af38024",
   "metadata": {},
   "outputs": [],
   "source": [
    "_ = power_all[['Power_GWh', 'GWH_Prediction']].plot(figsize=(15, 5))"
   ]
  },
  {
   "cell_type": "code",
   "execution_count": null,
   "id": "b2147cbc-470a-4d0f-9a0b-b5c6922c00a5",
   "metadata": {},
   "outputs": [],
   "source": [
    "f, ax = plt.subplots(1)\n",
    "f.set_figheight(5)\n",
    "f.set_figwidth(15)\n",
    "_ = pjme_all[['GWH_Prediction','Power_GWh']].plot(ax=ax,figsize=(15, 8) )\n",
    "ax.set_xbound(lower='01-01-2015', upper='01-01-2016')\n",
    "ax.set_ylim(0, 60000)\n",
    "plot = plt.suptitle('January - Dec 2015  prediction vs Actual')"
   ]
  },
  {
   "cell_type": "code",
   "execution_count": null,
   "id": "d115e34f-f387-4ad5-a4bf-715da4170534",
   "metadata": {},
   "outputs": [],
   "source": [
    "mse = mean_squared_error(y_true=pjme_test['Power_GWh'],\n",
    "                   y_pred=pjme_test['GWh_Prediction'])\n",
    "print(\"Mean Squared Error: \", mse)"
   ]
  },
  {
   "cell_type": "markdown",
   "id": "007ff7f6-6bbf-4a91-96f1-7c77af95a8b2",
   "metadata": {},
   "source": [
    "##### mean absolute percent error: it gives an easy to interperate percentage which shows how off the predictions are. MAPE isn't included in sklearn metrics pkg hence a custom function."
   ]
  },
  {
   "cell_type": "code",
   "execution_count": null,
   "id": "9f412b77-7382-4cdd-b158-df8b615e93e5",
   "metadata": {},
   "outputs": [],
   "source": [
    "def mean_absolute_percentage_error(y_true, y_pred): \n",
    "    \"\"\"Calculates MAPE given y_true and y_pred\"\"\"\n",
    "    y_true, y_pred = np.array(y_true), np.array(y_pred)\n",
    "    return np.mean(np.abs((y_true - y_pred) / y_true)) * 100\n",
    "\n",
    "mean_absolute_percentage_error(y_true=pjme_test['Power_GWh'],\n",
    "                   y_pred=pjme_test['GWh_Prediction'])"
   ]
  },
  {
   "cell_type": "markdown",
   "id": "e61c6b99-6e50-46ec-b7fe-c146b4889b56",
   "metadata": {},
   "source": [
    "##### Lets look at first few months of prediction"
   ]
  },
  {
   "cell_type": "code",
   "execution_count": null,
   "id": "83722344-b30e-406b-a78e-b09ca5976267",
   "metadata": {},
   "outputs": [],
   "source": [
    "f, ax = plt.subplots(1)\n",
    "f.set_figheight(5)\n",
    "f.set_figwidth(15)\n",
    "_ = pjme_all[['GWh_Prediction','Power_GWh']].plot(ax=ax,\n",
    "                                              style=['-','.'])\n",
    "ax.set_xbound(lower='01-01-2015', upper='02-01-2015')\n",
    "ax.set_ylim(0, 60000)\n",
    "plot = plt.suptitle('January 2015 prediction vs Actual')"
   ]
  },
  {
   "cell_type": "code",
   "execution_count": null,
   "id": "e954a5f4-0992-4a29-9b35-a4f73ef5d14a",
   "metadata": {},
   "outputs": [],
   "source": [
    "f, ax = plt.subplots(1)\n",
    "f.set_figheight(5)\n",
    "f.set_figwidth(15)\n",
    "_ = pjme_all[['GWh_Prediction','Power_GWh']].plot(ax=ax,\n",
    "                                              style=['-','.'])\n",
    "ax.set_xbound(lower='02-01-2015', upper = '03-01-2015')\n",
    "ax.set_ylim(0, 60000)\n",
    "plot = plt.suptitle('Feb 2015 prediction vs Actual')\n",
    "\n"
   ]
  },
  {
   "cell_type": "markdown",
   "id": "4f658232-9260-48ed-aa1a-5962db5dc32a",
   "metadata": {},
   "source": [
    "##### Worst predicted months and best predicted months\n"
   ]
  },
  {
   "cell_type": "code",
   "execution_count": null,
   "id": "8938ded1-0ccf-493f-b73e-feade8b29c15",
   "metadata": {},
   "outputs": [],
   "source": [
    "power_test['error'] = power_test['Power_GWh'] - power_test['GWh_Prediction']\n",
    "power_test['abs_error'] = power_test['error'].apply(np.abs)\n",
    "error_by_day = power_test.groupby([,'month',]) \\\n",
    "    .mean()[['Power_GWh','GWh_Prediction','error','abs_error']]\n",
    "error_by_day.sort_values('error', ascending=True).head(10) #days when forecasted was most high than actual"
   ]
  },
  {
   "cell_type": "markdown",
   "id": "4727950e-85ed-404f-81f4-8c417bef35be",
   "metadata": {},
   "source": [
    "##### the worst absolute predicted months \n",
    "##### (Should be when season changes or when population behavior changes). "
   ]
  },
  {
   "cell_type": "code",
   "execution_count": null,
   "id": "e3b35f77-4350-4069-ac86-14d1f7c713ad",
   "metadata": {},
   "outputs": [],
   "source": [
    "error_by_month.sort_values('abs_error', ascending=False).head(10)\n"
   ]
  },
  {
   "cell_type": "code",
   "execution_count": null,
   "id": "2a6a8892-a115-4acd-bc0c-b96f9e59d506",
   "metadata": {},
   "outputs": [],
   "source": [
    "##### Plot worst predicted dates"
   ]
  },
  {
   "cell_type": "code",
   "execution_count": null,
   "id": "d0e7baeb-5a7f-40e3-8670-5280ede9ffb8",
   "metadata": {},
   "outputs": [],
   "source": []
  },
  {
   "cell_type": "code",
   "execution_count": null,
   "id": "681e5e11-0068-4655-8fbb-99abb59c5225",
   "metadata": {},
   "outputs": [],
   "source": []
  }
 ],
 "metadata": {
  "kernelspec": {
   "display_name": "Python 3 (ipykernel)",
   "language": "python",
   "name": "python3"
  },
  "language_info": {
   "codemirror_mode": {
    "name": "ipython",
    "version": 3
   },
   "file_extension": ".py",
   "mimetype": "text/x-python",
   "name": "python",
   "nbconvert_exporter": "python",
   "pygments_lexer": "ipython3",
   "version": "3.10.6"
  }
 },
 "nbformat": 4,
 "nbformat_minor": 5
}
