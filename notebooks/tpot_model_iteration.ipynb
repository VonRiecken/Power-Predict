{
 "cells": [
  {
   "cell_type": "code",
   "execution_count": null,
   "metadata": {},
   "outputs": [],
   "source": [
    "!pip install --upgrade tpot"
   ]
  },
  {
   "cell_type": "code",
   "execution_count": 1,
   "metadata": {},
   "outputs": [],
   "source": [
    "import pandas as pd\n",
    "import numpy as np\n",
    "from sklearn.model_selection import train_test_split\n",
    "from sklearn.impute import SimpleImputer\n",
    "from sklearn.preprocessing import MinMaxScaler, OneHotEncoder\n",
    "from sklearn.pipeline import Pipeline\n",
    "from sklearn.compose import ColumnTransformer\n",
    "from tpot import TPOTRegressor\n",
    "from sklearn.metrics import mean_squared_error, mean_absolute_error\n",
    "import matplotlib.pyplot as plt\n"
   ]
  },
  {
   "cell_type": "code",
   "execution_count": 2,
   "metadata": {},
   "outputs": [
    {
     "data": {
      "text/html": [
       "<div>\n",
       "<style scoped>\n",
       "    .dataframe tbody tr th:only-of-type {\n",
       "        vertical-align: middle;\n",
       "    }\n",
       "\n",
       "    .dataframe tbody tr th {\n",
       "        vertical-align: top;\n",
       "    }\n",
       "\n",
       "    .dataframe thead th {\n",
       "        text-align: right;\n",
       "    }\n",
       "</style>\n",
       "<table border=\"1\" class=\"dataframe\">\n",
       "  <thead>\n",
       "    <tr style=\"text-align: right;\">\n",
       "      <th></th>\n",
       "      <th>Unnamed: 0</th>\n",
       "      <th>Month_year</th>\n",
       "      <th>Country</th>\n",
       "      <th>Balance</th>\n",
       "      <th>Combustible Renewables</th>\n",
       "      <th>Hydro</th>\n",
       "      <th>Other Renewables</th>\n",
       "      <th>Solar</th>\n",
       "      <th>Total Renewables (Hydro, Geo, Solar, Wind, Other)</th>\n",
       "      <th>Wind</th>\n",
       "      <th>value_CDD_18</th>\n",
       "      <th>value_CDD_21</th>\n",
       "      <th>value_Global_Horizontal_Irrandiance</th>\n",
       "      <th>value_HDD_16</th>\n",
       "      <th>value_HDD_18</th>\n",
       "      <th>value_Heat_index</th>\n",
       "      <th>value_Relative_Humidty</th>\n",
       "      <th>value_Temperature</th>\n",
       "      <th>value_Total_Precipitation</th>\n",
       "      <th>total target (wind, solar, hydro)</th>\n",
       "    </tr>\n",
       "  </thead>\n",
       "  <tbody>\n",
       "    <tr>\n",
       "      <th>0</th>\n",
       "      <td>0</td>\n",
       "      <td>2010-04-01</td>\n",
       "      <td>Australia</td>\n",
       "      <td>Net Electricity Production</td>\n",
       "      <td>216.287</td>\n",
       "      <td>1044.406</td>\n",
       "      <td>0.00</td>\n",
       "      <td>26.811</td>\n",
       "      <td>1638.098</td>\n",
       "      <td>350.511</td>\n",
       "      <td>48.13000</td>\n",
       "      <td>12.620000</td>\n",
       "      <td>720994.0</td>\n",
       "      <td>17.47</td>\n",
       "      <td>37.08</td>\n",
       "      <td>18.410</td>\n",
       "      <td>57.37</td>\n",
       "      <td>23.210</td>\n",
       "      <td>0.05483</td>\n",
       "      <td>1421.728</td>\n",
       "    </tr>\n",
       "    <tr>\n",
       "      <th>1</th>\n",
       "      <td>1</td>\n",
       "      <td>2010-04-01</td>\n",
       "      <td>Austria</td>\n",
       "      <td>Net Electricity Production</td>\n",
       "      <td>350.383</td>\n",
       "      <td>2504.130</td>\n",
       "      <td>0.00</td>\n",
       "      <td>9.965</td>\n",
       "      <td>2995.696</td>\n",
       "      <td>131.107</td>\n",
       "      <td>0.05449</td>\n",
       "      <td>0.000000</td>\n",
       "      <td>736161.0</td>\n",
       "      <td>228.90</td>\n",
       "      <td>287.80</td>\n",
       "      <td>8.410</td>\n",
       "      <td>69.85</td>\n",
       "      <td>6.748</td>\n",
       "      <td>0.10510</td>\n",
       "      <td>2645.202</td>\n",
       "    </tr>\n",
       "    <tr>\n",
       "      <th>2</th>\n",
       "      <td>2</td>\n",
       "      <td>2010-04-01</td>\n",
       "      <td>Belgium</td>\n",
       "      <td>Net Electricity Production</td>\n",
       "      <td>383.177</td>\n",
       "      <td>141.898</td>\n",
       "      <td>0.00</td>\n",
       "      <td>80.419</td>\n",
       "      <td>702.509</td>\n",
       "      <td>97.015</td>\n",
       "      <td>0.99160</td>\n",
       "      <td>0.000000</td>\n",
       "      <td>723195.0</td>\n",
       "      <td>195.80</td>\n",
       "      <td>253.70</td>\n",
       "      <td>9.577</td>\n",
       "      <td>67.90</td>\n",
       "      <td>9.322</td>\n",
       "      <td>0.03999</td>\n",
       "      <td>319.332</td>\n",
       "    </tr>\n",
       "    <tr>\n",
       "      <th>3</th>\n",
       "      <td>3</td>\n",
       "      <td>2010-04-01</td>\n",
       "      <td>Canada</td>\n",
       "      <td>Net Electricity Production</td>\n",
       "      <td>712.988</td>\n",
       "      <td>28243.738</td>\n",
       "      <td>2.44</td>\n",
       "      <td>24.184</td>\n",
       "      <td>29709.301</td>\n",
       "      <td>725.951</td>\n",
       "      <td>0.06883</td>\n",
       "      <td>0.000023</td>\n",
       "      <td>679927.0</td>\n",
       "      <td>246.70</td>\n",
       "      <td>306.20</td>\n",
       "      <td>7.797</td>\n",
       "      <td>70.85</td>\n",
       "      <td>-1.708</td>\n",
       "      <td>0.05456</td>\n",
       "      <td>28993.873</td>\n",
       "    </tr>\n",
       "    <tr>\n",
       "      <th>4</th>\n",
       "      <td>4</td>\n",
       "      <td>2010-04-01</td>\n",
       "      <td>Chile</td>\n",
       "      <td>Net Electricity Production</td>\n",
       "      <td>152.826</td>\n",
       "      <td>1740.416</td>\n",
       "      <td>0.00</td>\n",
       "      <td>0.000</td>\n",
       "      <td>1913.601</td>\n",
       "      <td>20.359</td>\n",
       "      <td>1.41100</td>\n",
       "      <td>0.040190</td>\n",
       "      <td>578355.0</td>\n",
       "      <td>113.00</td>\n",
       "      <td>168.30</td>\n",
       "      <td>12.440</td>\n",
       "      <td>66.58</td>\n",
       "      <td>9.672</td>\n",
       "      <td>0.15780</td>\n",
       "      <td>1760.775</td>\n",
       "    </tr>\n",
       "  </tbody>\n",
       "</table>\n",
       "</div>"
      ],
      "text/plain": [
       "   Unnamed: 0  Month_year    Country                     Balance  \\\n",
       "0           0  2010-04-01  Australia  Net Electricity Production   \n",
       "1           1  2010-04-01    Austria  Net Electricity Production   \n",
       "2           2  2010-04-01    Belgium  Net Electricity Production   \n",
       "3           3  2010-04-01     Canada  Net Electricity Production   \n",
       "4           4  2010-04-01      Chile  Net Electricity Production   \n",
       "\n",
       "   Combustible Renewables      Hydro  Other Renewables   Solar  \\\n",
       "0                 216.287   1044.406              0.00  26.811   \n",
       "1                 350.383   2504.130              0.00   9.965   \n",
       "2                 383.177    141.898              0.00  80.419   \n",
       "3                 712.988  28243.738              2.44  24.184   \n",
       "4                 152.826   1740.416              0.00   0.000   \n",
       "\n",
       "   Total Renewables (Hydro, Geo, Solar, Wind, Other)     Wind  value_CDD_18  \\\n",
       "0                                           1638.098  350.511      48.13000   \n",
       "1                                           2995.696  131.107       0.05449   \n",
       "2                                            702.509   97.015       0.99160   \n",
       "3                                          29709.301  725.951       0.06883   \n",
       "4                                           1913.601   20.359       1.41100   \n",
       "\n",
       "   value_CDD_21  value_Global_Horizontal_Irrandiance  value_HDD_16  \\\n",
       "0     12.620000                             720994.0         17.47   \n",
       "1      0.000000                             736161.0        228.90   \n",
       "2      0.000000                             723195.0        195.80   \n",
       "3      0.000023                             679927.0        246.70   \n",
       "4      0.040190                             578355.0        113.00   \n",
       "\n",
       "   value_HDD_18  value_Heat_index  value_Relative_Humidty  value_Temperature  \\\n",
       "0         37.08            18.410                   57.37             23.210   \n",
       "1        287.80             8.410                   69.85              6.748   \n",
       "2        253.70             9.577                   67.90              9.322   \n",
       "3        306.20             7.797                   70.85             -1.708   \n",
       "4        168.30            12.440                   66.58              9.672   \n",
       "\n",
       "   value_Total_Precipitation  total target (wind, solar, hydro)  \n",
       "0                    0.05483                           1421.728  \n",
       "1                    0.10510                           2645.202  \n",
       "2                    0.03999                            319.332  \n",
       "3                    0.05456                          28993.873  \n",
       "4                    0.15780                           1760.775  "
      ]
     },
     "execution_count": 2,
     "metadata": {},
     "output_type": "execute_result"
    }
   ],
   "source": [
    "# --- Data Collection and Preparation ---\n",
    "df = pd.read_csv('../power_predict/data/merged_dataset.csv') \n",
    "df.head(5)"
   ]
  },
  {
   "cell_type": "code",
   "execution_count": 3,
   "metadata": {},
   "outputs": [
    {
     "data": {
      "text/plain": [
       "Index(['Unnamed: 0', 'Month_year', 'Country', 'Balance',\n",
       "       'Combustible Renewables', 'Hydro', 'Other Renewables', 'Solar',\n",
       "       'Total Renewables (Hydro, Geo, Solar, Wind, Other)', 'Wind',\n",
       "       'value_CDD_18', 'value_CDD_21', 'value_Global_Horizontal_Irrandiance',\n",
       "       'value_HDD_16', 'value_HDD_18', 'value_Heat_index',\n",
       "       'value_Relative_Humidty', 'value_Temperature',\n",
       "       'value_Total_Precipitation', 'total target (wind, solar, hydro)'],\n",
       "      dtype='object')"
      ]
     },
     "execution_count": 3,
     "metadata": {},
     "output_type": "execute_result"
    }
   ],
   "source": [
    "# df.columns"
   ]
  },
  {
   "cell_type": "code",
   "execution_count": 4,
   "metadata": {},
   "outputs": [
    {
     "data": {
      "text/plain": [
       "Unnamed: 0                                             int64\n",
       "Month_year                                            object\n",
       "Country                                               object\n",
       "Balance                                               object\n",
       "Combustible Renewables                               float64\n",
       "Hydro                                                float64\n",
       "Other Renewables                                     float64\n",
       "Solar                                                float64\n",
       "Total Renewables (Hydro, Geo, Solar, Wind, Other)    float64\n",
       "Wind                                                 float64\n",
       "value_CDD_18                                         float64\n",
       "value_CDD_21                                         float64\n",
       "value_Global_Horizontal_Irrandiance                  float64\n",
       "value_HDD_16                                         float64\n",
       "value_HDD_18                                         float64\n",
       "value_Heat_index                                     float64\n",
       "value_Relative_Humidty                               float64\n",
       "value_Temperature                                    float64\n",
       "value_Total_Precipitation                            float64\n",
       "total target (wind, solar, hydro)                    float64\n",
       "dtype: object"
      ]
     },
     "execution_count": 4,
     "metadata": {},
     "output_type": "execute_result"
    }
   ],
   "source": [
    "# df.dtypes"
   ]
  },
  {
   "cell_type": "markdown",
   "metadata": {},
   "source": [
    "## --- Data Preprocessing ---"
   ]
  },
  {
   "cell_type": "code",
   "execution_count": 5,
   "metadata": {},
   "outputs": [],
   "source": [
    "# --- Data Preprocessing ---\n",
    "\n",
    "# Setting Country + Month year as Index\n",
    "df['Country_Month'] = df['Country'] + '_' + df['Month_year'].astype(str)\n",
    "df = df.set_index('Country_Month')\n",
    "\n",
    "# Separating features and target variables\n",
    "X = df.drop(['Unnamed: 0', 'Month_year', 'Balance',\n",
    "       'Combustible Renewables', 'Hydro', 'Other Renewables', 'Solar',\n",
    "       'Total Renewables (Hydro, Geo, Solar, Wind, Other)', 'Wind',\n",
    "       'total target (wind, solar, hydro)'], axis=1) \n",
    "y = df['total target (wind, solar, hydro)'].values.ravel()  ### TPOT can only handle one target at a time, expects 1D array!\n",
    "\n",
    "# y = df[['Solar', 'Hydro', 'Wind','total target (wind, solar, hydro)']] "
   ]
  },
  {
   "cell_type": "code",
   "execution_count": null,
   "metadata": {},
   "outputs": [],
   "source": [
    "# Init list of numerical columns\n",
    "num_features = X.select_dtypes(include=[np.number]).columns.tolist()\n",
    "\n",
    "# Create a preprocessing pipeline\n",
    "preprocessing_pipeline = ColumnTransformer(\n",
    "    transformers=[\n",
    "        # Preprocessing for numerical features\n",
    "        ('num', Pipeline(steps=[\n",
    "            ('scaler', MinMaxScaler())  # Scale features using MinMaxScaler\n",
    "        ]), num_features),\n",
    "        \n",
    "        # Preprocessing for categorical feature 'country'\n",
    "        ('cat', OneHotEncoder(handle_unknown='ignore'), ['Country'])\n",
    "    ])\n",
    "\n",
    "preprocessing_pipeline"
   ]
  },
  {
   "cell_type": "code",
   "execution_count": null,
   "metadata": {},
   "outputs": [],
   "source": [
    "# X"
   ]
  },
  {
   "cell_type": "code",
   "execution_count": null,
   "metadata": {},
   "outputs": [],
   "source": [
    "# y"
   ]
  },
  {
   "cell_type": "code",
   "execution_count": null,
   "metadata": {},
   "outputs": [],
   "source": [
    "# Splitting the data into training and testing sets\n",
    "X_train, X_test, y_train, y_test = train_test_split(X, y, test_size=0.2, random_state=42)"
   ]
  },
  {
   "cell_type": "code",
   "execution_count": null,
   "metadata": {},
   "outputs": [],
   "source": [
    "# Fit the preprocessing pipeline on the training data\n",
    "X_train_processed = preprocessing_pipeline.fit_transform(X_train)\n",
    "\n",
    "# Transform the testing data using the fitted pipeline\n",
    "X_test_processed = preprocessing_pipeline.transform(X_test)"
   ]
  },
  {
   "cell_type": "markdown",
   "metadata": {},
   "source": [
    "## --- Model Building with TPOT ---"
   ]
  },
  {
   "cell_type": "code",
   "execution_count": null,
   "metadata": {},
   "outputs": [],
   "source": [
    "# --- Model Building with TPOT ---\n",
    "# TPOT regressor for multi-target regression\n",
    "tpot_regressor = TPOTRegressor(generations=5, population_size=50, verbosity=2, random_state=42,\n",
    "                               config_dict='TPOT sparse', cv=5)\n",
    "\n",
    "# Pipeline including preprocessing and TPOT regressor\n",
    "pipeline = Pipeline(steps=[('preprocessor', preprocessing_pipeline),\n",
    "                           ('tpot_regressor', tpot_regressor)])\n",
    "\n",
    "pipeline"
   ]
  },
  {
   "cell_type": "code",
   "execution_count": null,
   "metadata": {},
   "outputs": [],
   "source": [
    "# --- Model Training ---\n",
    "# Train the TPOT model\n",
    "pipeline.fit(X_train, y_train)"
   ]
  },
  {
   "cell_type": "code",
   "execution_count": null,
   "metadata": {},
   "outputs": [],
   "source": [
    "# --- Model Evaluation ---\n",
    "# Evaluate the best model found by TPOT\n",
    "y_pred = pipeline.predict(X_test)\n",
    "mse = mean_squared_error(y_test, y_pred)\n",
    "mae = mean_absolute_error(y_test, y_pred)\n",
    "\n",
    "# Output performance metrics\n",
    "print(\"Mean Squared Error:\", mse)\n",
    "print(\"Mean Absolute Error:\", mae)\n",
    "\n",
    "# Feature importance (TPOT might select a model where feature importance is not available)\n",
    "# Here, we're assuming TPOT selected a Random Forest model. If not, this part would need to be adjusted.\n",
    "if 'feature_importances_' in dir(pipeline.named_steps['tpot_regressor'].fitted_pipeline_[-1]):\n",
    "    feature_importances = pipeline.named_steps['tpot_regressor'].fitted_pipeline_[-1].feature_importances_\n",
    "\n",
    "    # Create a bar chart of feature importances\n",
    "    plt.barh(range(len(feature_importances)), feature_importances, align='center')\n",
    "    plt.yticks(range(len(feature_importances)), features.columns)\n",
    "    plt.xlabel('Feature Importance')\n",
    "    plt.ylabel('Feature')\n",
    "    plt.show()\n",
    "else:\n",
    "    print(\"Selected model does not support feature importances.\")"
   ]
  },
  {
   "cell_type": "code",
   "execution_count": null,
   "metadata": {},
   "outputs": [],
   "source": []
  }
 ],
 "metadata": {
  "kernelspec": {
   "display_name": "Python 3 (ipykernel)",
   "language": "python",
   "name": "python3"
  },
  "language_info": {
   "codemirror_mode": {
    "name": "ipython",
    "version": 3
   },
   "file_extension": ".py",
   "mimetype": "text/x-python",
   "name": "python",
   "nbconvert_exporter": "python",
   "pygments_lexer": "ipython3",
   "version": "3.10.6"
  },
  "toc": {
   "base_numbering": 1,
   "nav_menu": {},
   "number_sections": true,
   "sideBar": true,
   "skip_h1_title": false,
   "title_cell": "Table of Contents",
   "title_sidebar": "Contents",
   "toc_cell": false,
   "toc_position": {},
   "toc_section_display": true,
   "toc_window_display": false
  }
 },
 "nbformat": 4,
 "nbformat_minor": 2
}
