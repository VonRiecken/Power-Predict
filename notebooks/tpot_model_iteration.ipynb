{
 "cells": [
  {
   "cell_type": "code",
<<<<<<< HEAD
   "execution_count": 1,
   "metadata": {},
   "outputs": [
    {
     "name": "stdout",
     "output_type": "stream",
     "text": [
      "Requirement already satisfied: tpot in /Users/FernandoSandoval/.pyenv/versions/3.10.6/envs/lewagon/lib/python3.10/site-packages (0.12.1)\n",
      "Requirement already satisfied: numpy>=1.16.3 in /Users/FernandoSandoval/.pyenv/versions/3.10.6/envs/lewagon/lib/python3.10/site-packages (from tpot) (1.23.4)\n",
      "Requirement already satisfied: scipy>=1.3.1 in /Users/FernandoSandoval/.pyenv/versions/3.10.6/envs/lewagon/lib/python3.10/site-packages (from tpot) (1.8.1)\n",
      "Requirement already satisfied: scikit-learn>=0.22.0 in /Users/FernandoSandoval/.pyenv/versions/3.10.6/envs/lewagon/lib/python3.10/site-packages (from tpot) (1.3.2)\n",
      "Requirement already satisfied: deap>=1.2 in /Users/FernandoSandoval/.pyenv/versions/3.10.6/envs/lewagon/lib/python3.10/site-packages (from tpot) (1.3.3)\n",
      "Requirement already satisfied: update-checker>=0.16 in /Users/FernandoSandoval/.pyenv/versions/3.10.6/envs/lewagon/lib/python3.10/site-packages (from tpot) (0.18.0)\n",
      "Requirement already satisfied: tqdm>=4.36.1 in /Users/FernandoSandoval/.pyenv/versions/3.10.6/envs/lewagon/lib/python3.10/site-packages (from tpot) (4.64.1)\n",
      "Requirement already satisfied: stopit>=1.1.1 in /Users/FernandoSandoval/.pyenv/versions/3.10.6/envs/lewagon/lib/python3.10/site-packages (from tpot) (1.1.2)\n",
      "Requirement already satisfied: pandas>=0.24.2 in /Users/FernandoSandoval/.pyenv/versions/3.10.6/envs/lewagon/lib/python3.10/site-packages (from tpot) (1.4.4)\n",
      "Requirement already satisfied: joblib>=0.13.2 in /Users/FernandoSandoval/.pyenv/versions/3.10.6/envs/lewagon/lib/python3.10/site-packages (from tpot) (1.1.1)\n",
      "Requirement already satisfied: xgboost>=1.1.0 in /Users/FernandoSandoval/.pyenv/versions/3.10.6/envs/lewagon/lib/python3.10/site-packages (from tpot) (1.6.2)\n",
      "Requirement already satisfied: python-dateutil>=2.8.1 in /Users/FernandoSandoval/.pyenv/versions/3.10.6/envs/lewagon/lib/python3.10/site-packages (from pandas>=0.24.2->tpot) (2.8.2)\n",
      "Requirement already satisfied: pytz>=2020.1 in /Users/FernandoSandoval/.pyenv/versions/3.10.6/envs/lewagon/lib/python3.10/site-packages (from pandas>=0.24.2->tpot) (2022.1)\n",
      "Requirement already satisfied: threadpoolctl>=2.0.0 in /Users/FernandoSandoval/.pyenv/versions/3.10.6/envs/lewagon/lib/python3.10/site-packages (from scikit-learn>=0.22.0->tpot) (3.1.0)\n",
      "Requirement already satisfied: requests>=2.3.0 in /Users/FernandoSandoval/.pyenv/versions/3.10.6/envs/lewagon/lib/python3.10/site-packages (from update-checker>=0.16->tpot) (2.28.1)\n",
      "Requirement already satisfied: six>=1.5 in /Users/FernandoSandoval/.pyenv/versions/3.10.6/envs/lewagon/lib/python3.10/site-packages (from python-dateutil>=2.8.1->pandas>=0.24.2->tpot) (1.16.0)\n",
      "Requirement already satisfied: charset-normalizer<3,>=2 in /Users/FernandoSandoval/.pyenv/versions/3.10.6/envs/lewagon/lib/python3.10/site-packages (from requests>=2.3.0->update-checker>=0.16->tpot) (2.1.1)\n",
      "Requirement already satisfied: idna<4,>=2.5 in /Users/FernandoSandoval/.pyenv/versions/3.10.6/envs/lewagon/lib/python3.10/site-packages (from requests>=2.3.0->update-checker>=0.16->tpot) (3.4)\n",
      "Requirement already satisfied: urllib3<1.27,>=1.21.1 in /Users/FernandoSandoval/.pyenv/versions/3.10.6/envs/lewagon/lib/python3.10/site-packages (from requests>=2.3.0->update-checker>=0.16->tpot) (1.26.12)\n",
      "Requirement already satisfied: certifi>=2017.4.17 in /Users/FernandoSandoval/.pyenv/versions/3.10.6/envs/lewagon/lib/python3.10/site-packages (from requests>=2.3.0->update-checker>=0.16->tpot) (2022.9.24)\n"
     ]
    }
   ],
=======
   "execution_count": null,
   "metadata": {},
   "outputs": [],
>>>>>>> a5af15a1d3c8793377ee05a03cccea4e5b64855b
   "source": [
    "!pip install --upgrade tpot"
   ]
  },
  {
   "cell_type": "code",
<<<<<<< HEAD
   "execution_count": 2,
=======
   "execution_count": 1,
>>>>>>> a5af15a1d3c8793377ee05a03cccea4e5b64855b
   "metadata": {},
   "outputs": [],
   "source": [
    "import pandas as pd\n",
    "import numpy as np\n",
    "from sklearn.model_selection import train_test_split\n",
    "from sklearn.impute import SimpleImputer\n",
    "from sklearn.preprocessing import MinMaxScaler, OneHotEncoder\n",
    "from sklearn.pipeline import Pipeline\n",
    "from sklearn.compose import ColumnTransformer\n",
    "from tpot import TPOTRegressor\n",
    "from sklearn.metrics import mean_squared_error, mean_absolute_error\n",
    "import matplotlib.pyplot as plt\n"
   ]
  },
  {
   "cell_type": "code",
<<<<<<< HEAD
   "execution_count": 3,
=======
   "execution_count": 2,
>>>>>>> a5af15a1d3c8793377ee05a03cccea4e5b64855b
   "metadata": {},
   "outputs": [
    {
     "data": {
      "text/html": [
       "<div>\n",
       "<style scoped>\n",
       "    .dataframe tbody tr th:only-of-type {\n",
       "        vertical-align: middle;\n",
       "    }\n",
       "\n",
       "    .dataframe tbody tr th {\n",
       "        vertical-align: top;\n",
       "    }\n",
       "\n",
       "    .dataframe thead th {\n",
       "        text-align: right;\n",
       "    }\n",
       "</style>\n",
       "<table border=\"1\" class=\"dataframe\">\n",
       "  <thead>\n",
       "    <tr style=\"text-align: right;\">\n",
       "      <th></th>\n",
       "      <th>Unnamed: 0</th>\n",
       "      <th>Month_year</th>\n",
       "      <th>Country</th>\n",
       "      <th>Balance</th>\n",
       "      <th>Combustible Renewables</th>\n",
       "      <th>Hydro</th>\n",
       "      <th>Other Renewables</th>\n",
       "      <th>Solar</th>\n",
       "      <th>Total Renewables (Hydro, Geo, Solar, Wind, Other)</th>\n",
       "      <th>Wind</th>\n",
       "      <th>value_CDD_18</th>\n",
       "      <th>value_CDD_21</th>\n",
       "      <th>value_Global_Horizontal_Irrandiance</th>\n",
       "      <th>value_HDD_16</th>\n",
       "      <th>value_HDD_18</th>\n",
       "      <th>value_Heat_index</th>\n",
       "      <th>value_Relative_Humidty</th>\n",
       "      <th>value_Temperature</th>\n",
       "      <th>value_Total_Precipitation</th>\n",
       "      <th>total target (wind, solar, hydro)</th>\n",
       "    </tr>\n",
       "  </thead>\n",
       "  <tbody>\n",
       "    <tr>\n",
       "      <th>0</th>\n",
       "      <td>0</td>\n",
       "      <td>2010-04-01</td>\n",
       "      <td>Australia</td>\n",
       "      <td>Net Electricity Production</td>\n",
       "      <td>216.287</td>\n",
       "      <td>1044.406</td>\n",
       "      <td>0.00</td>\n",
       "      <td>26.811</td>\n",
       "      <td>1638.098</td>\n",
       "      <td>350.511</td>\n",
       "      <td>48.13000</td>\n",
       "      <td>12.620000</td>\n",
       "      <td>720994.0</td>\n",
       "      <td>17.47</td>\n",
       "      <td>37.08</td>\n",
       "      <td>18.410</td>\n",
       "      <td>57.37</td>\n",
       "      <td>23.210</td>\n",
       "      <td>0.05483</td>\n",
       "      <td>1421.728</td>\n",
       "    </tr>\n",
       "    <tr>\n",
       "      <th>1</th>\n",
       "      <td>1</td>\n",
       "      <td>2010-04-01</td>\n",
       "      <td>Austria</td>\n",
       "      <td>Net Electricity Production</td>\n",
       "      <td>350.383</td>\n",
       "      <td>2504.130</td>\n",
       "      <td>0.00</td>\n",
       "      <td>9.965</td>\n",
       "      <td>2995.696</td>\n",
       "      <td>131.107</td>\n",
       "      <td>0.05449</td>\n",
       "      <td>0.000000</td>\n",
       "      <td>736161.0</td>\n",
       "      <td>228.90</td>\n",
       "      <td>287.80</td>\n",
       "      <td>8.410</td>\n",
       "      <td>69.85</td>\n",
       "      <td>6.748</td>\n",
       "      <td>0.10510</td>\n",
       "      <td>2645.202</td>\n",
       "    </tr>\n",
       "    <tr>\n",
       "      <th>2</th>\n",
       "      <td>2</td>\n",
       "      <td>2010-04-01</td>\n",
       "      <td>Belgium</td>\n",
       "      <td>Net Electricity Production</td>\n",
       "      <td>383.177</td>\n",
       "      <td>141.898</td>\n",
       "      <td>0.00</td>\n",
       "      <td>80.419</td>\n",
       "      <td>702.509</td>\n",
       "      <td>97.015</td>\n",
       "      <td>0.99160</td>\n",
       "      <td>0.000000</td>\n",
       "      <td>723195.0</td>\n",
       "      <td>195.80</td>\n",
       "      <td>253.70</td>\n",
       "      <td>9.577</td>\n",
       "      <td>67.90</td>\n",
       "      <td>9.322</td>\n",
       "      <td>0.03999</td>\n",
       "      <td>319.332</td>\n",
       "    </tr>\n",
       "    <tr>\n",
       "      <th>3</th>\n",
       "      <td>3</td>\n",
       "      <td>2010-04-01</td>\n",
       "      <td>Canada</td>\n",
       "      <td>Net Electricity Production</td>\n",
       "      <td>712.988</td>\n",
       "      <td>28243.738</td>\n",
       "      <td>2.44</td>\n",
       "      <td>24.184</td>\n",
       "      <td>29709.301</td>\n",
       "      <td>725.951</td>\n",
       "      <td>0.06883</td>\n",
       "      <td>0.000023</td>\n",
       "      <td>679927.0</td>\n",
       "      <td>246.70</td>\n",
       "      <td>306.20</td>\n",
       "      <td>7.797</td>\n",
       "      <td>70.85</td>\n",
       "      <td>-1.708</td>\n",
       "      <td>0.05456</td>\n",
       "      <td>28993.873</td>\n",
       "    </tr>\n",
       "    <tr>\n",
       "      <th>4</th>\n",
       "      <td>4</td>\n",
       "      <td>2010-04-01</td>\n",
       "      <td>Chile</td>\n",
       "      <td>Net Electricity Production</td>\n",
       "      <td>152.826</td>\n",
       "      <td>1740.416</td>\n",
       "      <td>0.00</td>\n",
       "      <td>0.000</td>\n",
       "      <td>1913.601</td>\n",
       "      <td>20.359</td>\n",
       "      <td>1.41100</td>\n",
       "      <td>0.040190</td>\n",
       "      <td>578355.0</td>\n",
       "      <td>113.00</td>\n",
       "      <td>168.30</td>\n",
       "      <td>12.440</td>\n",
       "      <td>66.58</td>\n",
       "      <td>9.672</td>\n",
       "      <td>0.15780</td>\n",
       "      <td>1760.775</td>\n",
       "    </tr>\n",
       "  </tbody>\n",
       "</table>\n",
       "</div>"
      ],
      "text/plain": [
       "   Unnamed: 0  Month_year    Country                     Balance  \\\n",
       "0           0  2010-04-01  Australia  Net Electricity Production   \n",
       "1           1  2010-04-01    Austria  Net Electricity Production   \n",
       "2           2  2010-04-01    Belgium  Net Electricity Production   \n",
       "3           3  2010-04-01     Canada  Net Electricity Production   \n",
       "4           4  2010-04-01      Chile  Net Electricity Production   \n",
       "\n",
       "   Combustible Renewables      Hydro  Other Renewables   Solar  \\\n",
       "0                 216.287   1044.406              0.00  26.811   \n",
       "1                 350.383   2504.130              0.00   9.965   \n",
       "2                 383.177    141.898              0.00  80.419   \n",
       "3                 712.988  28243.738              2.44  24.184   \n",
       "4                 152.826   1740.416              0.00   0.000   \n",
       "\n",
       "   Total Renewables (Hydro, Geo, Solar, Wind, Other)     Wind  value_CDD_18  \\\n",
       "0                                           1638.098  350.511      48.13000   \n",
       "1                                           2995.696  131.107       0.05449   \n",
       "2                                            702.509   97.015       0.99160   \n",
       "3                                          29709.301  725.951       0.06883   \n",
       "4                                           1913.601   20.359       1.41100   \n",
       "\n",
       "   value_CDD_21  value_Global_Horizontal_Irrandiance  value_HDD_16  \\\n",
       "0     12.620000                             720994.0         17.47   \n",
       "1      0.000000                             736161.0        228.90   \n",
       "2      0.000000                             723195.0        195.80   \n",
       "3      0.000023                             679927.0        246.70   \n",
       "4      0.040190                             578355.0        113.00   \n",
       "\n",
       "   value_HDD_18  value_Heat_index  value_Relative_Humidty  value_Temperature  \\\n",
       "0         37.08            18.410                   57.37             23.210   \n",
       "1        287.80             8.410                   69.85              6.748   \n",
       "2        253.70             9.577                   67.90              9.322   \n",
       "3        306.20             7.797                   70.85             -1.708   \n",
       "4        168.30            12.440                   66.58              9.672   \n",
       "\n",
       "   value_Total_Precipitation  total target (wind, solar, hydro)  \n",
       "0                    0.05483                           1421.728  \n",
       "1                    0.10510                           2645.202  \n",
       "2                    0.03999                            319.332  \n",
       "3                    0.05456                          28993.873  \n",
       "4                    0.15780                           1760.775  "
      ]
     },
<<<<<<< HEAD
     "execution_count": 3,
=======
     "execution_count": 2,
>>>>>>> a5af15a1d3c8793377ee05a03cccea4e5b64855b
     "metadata": {},
     "output_type": "execute_result"
    }
   ],
   "source": [
    "# --- Data Collection and Preparation ---\n",
    "df = pd.read_csv('../power_predict/data/merged_dataset.csv') \n",
    "df.head(5)"
   ]
  },
  {
   "cell_type": "code",
<<<<<<< HEAD
   "execution_count": 4,
=======
   "execution_count": 3,
>>>>>>> a5af15a1d3c8793377ee05a03cccea4e5b64855b
   "metadata": {},
   "outputs": [
    {
     "data": {
      "text/plain": [
       "Index(['Unnamed: 0', 'Month_year', 'Country', 'Balance',\n",
       "       'Combustible Renewables', 'Hydro', 'Other Renewables', 'Solar',\n",
       "       'Total Renewables (Hydro, Geo, Solar, Wind, Other)', 'Wind',\n",
       "       'value_CDD_18', 'value_CDD_21', 'value_Global_Horizontal_Irrandiance',\n",
       "       'value_HDD_16', 'value_HDD_18', 'value_Heat_index',\n",
       "       'value_Relative_Humidty', 'value_Temperature',\n",
       "       'value_Total_Precipitation', 'total target (wind, solar, hydro)'],\n",
       "      dtype='object')"
      ]
     },
<<<<<<< HEAD
     "execution_count": 4,
=======
     "execution_count": 3,
>>>>>>> a5af15a1d3c8793377ee05a03cccea4e5b64855b
     "metadata": {},
     "output_type": "execute_result"
    }
   ],
   "source": [
<<<<<<< HEAD
    "df.columns"
=======
    "# df.columns"
>>>>>>> a5af15a1d3c8793377ee05a03cccea4e5b64855b
   ]
  },
  {
   "cell_type": "code",
<<<<<<< HEAD
   "execution_count": 5,
=======
   "execution_count": 4,
>>>>>>> a5af15a1d3c8793377ee05a03cccea4e5b64855b
   "metadata": {},
   "outputs": [
    {
     "data": {
      "text/plain": [
       "Unnamed: 0                                             int64\n",
       "Month_year                                            object\n",
       "Country                                               object\n",
       "Balance                                               object\n",
       "Combustible Renewables                               float64\n",
       "Hydro                                                float64\n",
       "Other Renewables                                     float64\n",
       "Solar                                                float64\n",
       "Total Renewables (Hydro, Geo, Solar, Wind, Other)    float64\n",
       "Wind                                                 float64\n",
       "value_CDD_18                                         float64\n",
       "value_CDD_21                                         float64\n",
       "value_Global_Horizontal_Irrandiance                  float64\n",
       "value_HDD_16                                         float64\n",
       "value_HDD_18                                         float64\n",
       "value_Heat_index                                     float64\n",
       "value_Relative_Humidty                               float64\n",
       "value_Temperature                                    float64\n",
       "value_Total_Precipitation                            float64\n",
       "total target (wind, solar, hydro)                    float64\n",
       "dtype: object"
      ]
     },
<<<<<<< HEAD
     "execution_count": 5,
=======
     "execution_count": 4,
>>>>>>> a5af15a1d3c8793377ee05a03cccea4e5b64855b
     "metadata": {},
     "output_type": "execute_result"
    }
   ],
   "source": [
<<<<<<< HEAD
    "df.dtypes"
=======
    "# df.dtypes"
>>>>>>> a5af15a1d3c8793377ee05a03cccea4e5b64855b
   ]
  },
  {
   "cell_type": "markdown",
   "metadata": {},
   "source": [
    "## --- Data Preprocessing ---"
   ]
  },
  {
   "cell_type": "code",
<<<<<<< HEAD
   "execution_count": 28,
=======
   "execution_count": 5,
>>>>>>> a5af15a1d3c8793377ee05a03cccea4e5b64855b
   "metadata": {},
   "outputs": [],
   "source": [
    "# --- Data Preprocessing ---\n",
    "\n",
    "# Setting Country + Month year as Index\n",
    "df['Country_Month'] = df['Country'] + '_' + df['Month_year'].astype(str)\n",
    "df = df.set_index('Country_Month')\n",
    "\n",
    "# Separating features and target variables\n",
    "X = df.drop(['Unnamed: 0', 'Month_year', 'Balance',\n",
    "       'Combustible Renewables', 'Hydro', 'Other Renewables', 'Solar',\n",
    "       'Total Renewables (Hydro, Geo, Solar, Wind, Other)', 'Wind',\n",
    "       'total target (wind, solar, hydro)'], axis=1) \n",
<<<<<<< HEAD
    "y = df[['total target (wind, solar, hydro)']]  ### TPOT can only handle one target at a time!\n",
=======
    "y = df['total target (wind, solar, hydro)'].values.ravel()  ### TPOT can only handle one target at a time, expects 1D array!\n",
>>>>>>> a5af15a1d3c8793377ee05a03cccea4e5b64855b
    "\n",
    "# y = df[['Solar', 'Hydro', 'Wind','total target (wind, solar, hydro)']] "
   ]
  },
  {
   "cell_type": "code",
<<<<<<< HEAD
   "execution_count": 29,
   "metadata": {},
   "outputs": [
    {
     "data": {
      "text/html": [
       "<style>#sk-container-id-5 {color: black;}#sk-container-id-5 pre{padding: 0;}#sk-container-id-5 div.sk-toggleable {background-color: white;}#sk-container-id-5 label.sk-toggleable__label {cursor: pointer;display: block;width: 100%;margin-bottom: 0;padding: 0.3em;box-sizing: border-box;text-align: center;}#sk-container-id-5 label.sk-toggleable__label-arrow:before {content: \"▸\";float: left;margin-right: 0.25em;color: #696969;}#sk-container-id-5 label.sk-toggleable__label-arrow:hover:before {color: black;}#sk-container-id-5 div.sk-estimator:hover label.sk-toggleable__label-arrow:before {color: black;}#sk-container-id-5 div.sk-toggleable__content {max-height: 0;max-width: 0;overflow: hidden;text-align: left;background-color: #f0f8ff;}#sk-container-id-5 div.sk-toggleable__content pre {margin: 0.2em;color: black;border-radius: 0.25em;background-color: #f0f8ff;}#sk-container-id-5 input.sk-toggleable__control:checked~div.sk-toggleable__content {max-height: 200px;max-width: 100%;overflow: auto;}#sk-container-id-5 input.sk-toggleable__control:checked~label.sk-toggleable__label-arrow:before {content: \"▾\";}#sk-container-id-5 div.sk-estimator input.sk-toggleable__control:checked~label.sk-toggleable__label {background-color: #d4ebff;}#sk-container-id-5 div.sk-label input.sk-toggleable__control:checked~label.sk-toggleable__label {background-color: #d4ebff;}#sk-container-id-5 input.sk-hidden--visually {border: 0;clip: rect(1px 1px 1px 1px);clip: rect(1px, 1px, 1px, 1px);height: 1px;margin: -1px;overflow: hidden;padding: 0;position: absolute;width: 1px;}#sk-container-id-5 div.sk-estimator {font-family: monospace;background-color: #f0f8ff;border: 1px dotted black;border-radius: 0.25em;box-sizing: border-box;margin-bottom: 0.5em;}#sk-container-id-5 div.sk-estimator:hover {background-color: #d4ebff;}#sk-container-id-5 div.sk-parallel-item::after {content: \"\";width: 100%;border-bottom: 1px solid gray;flex-grow: 1;}#sk-container-id-5 div.sk-label:hover label.sk-toggleable__label {background-color: #d4ebff;}#sk-container-id-5 div.sk-serial::before {content: \"\";position: absolute;border-left: 1px solid gray;box-sizing: border-box;top: 0;bottom: 0;left: 50%;z-index: 0;}#sk-container-id-5 div.sk-serial {display: flex;flex-direction: column;align-items: center;background-color: white;padding-right: 0.2em;padding-left: 0.2em;position: relative;}#sk-container-id-5 div.sk-item {position: relative;z-index: 1;}#sk-container-id-5 div.sk-parallel {display: flex;align-items: stretch;justify-content: center;background-color: white;position: relative;}#sk-container-id-5 div.sk-item::before, #sk-container-id-5 div.sk-parallel-item::before {content: \"\";position: absolute;border-left: 1px solid gray;box-sizing: border-box;top: 0;bottom: 0;left: 50%;z-index: -1;}#sk-container-id-5 div.sk-parallel-item {display: flex;flex-direction: column;z-index: 1;position: relative;background-color: white;}#sk-container-id-5 div.sk-parallel-item:first-child::after {align-self: flex-end;width: 50%;}#sk-container-id-5 div.sk-parallel-item:last-child::after {align-self: flex-start;width: 50%;}#sk-container-id-5 div.sk-parallel-item:only-child::after {width: 0;}#sk-container-id-5 div.sk-dashed-wrapped {border: 1px dashed gray;margin: 0 0.4em 0.5em 0.4em;box-sizing: border-box;padding-bottom: 0.4em;background-color: white;}#sk-container-id-5 div.sk-label label {font-family: monospace;font-weight: bold;display: inline-block;line-height: 1.2em;}#sk-container-id-5 div.sk-label-container {text-align: center;}#sk-container-id-5 div.sk-container {/* jupyter's `normalize.less` sets `[hidden] { display: none; }` but bootstrap.min.css set `[hidden] { display: none !important; }` so we also need the `!important` here to be able to override the default hidden behavior on the sphinx rendered scikit-learn.org. See: https://github.com/scikit-learn/scikit-learn/issues/21755 */display: inline-block !important;position: relative;}#sk-container-id-5 div.sk-text-repr-fallback {display: none;}</style><div id=\"sk-container-id-5\" class=\"sk-top-container\"><div class=\"sk-text-repr-fallback\"><pre>ColumnTransformer(transformers=[(&#x27;num&#x27;,\n",
       "                                 Pipeline(steps=[(&#x27;scaler&#x27;, MinMaxScaler())]),\n",
       "                                 [&#x27;value_CDD_18&#x27;, &#x27;value_CDD_21&#x27;,\n",
       "                                  &#x27;value_Global_Horizontal_Irrandiance&#x27;,\n",
       "                                  &#x27;value_HDD_16&#x27;, &#x27;value_HDD_18&#x27;,\n",
       "                                  &#x27;value_Heat_index&#x27;, &#x27;value_Relative_Humidty&#x27;,\n",
       "                                  &#x27;value_Temperature&#x27;,\n",
       "                                  &#x27;value_Total_Precipitation&#x27;]),\n",
       "                                (&#x27;cat&#x27;, OneHotEncoder(handle_unknown=&#x27;ignore&#x27;),\n",
       "                                 [&#x27;Country&#x27;])])</pre><b>In a Jupyter environment, please rerun this cell to show the HTML representation or trust the notebook. <br />On GitHub, the HTML representation is unable to render, please try loading this page with nbviewer.org.</b></div><div class=\"sk-container\" hidden><div class=\"sk-item sk-dashed-wrapped\"><div class=\"sk-label-container\"><div class=\"sk-label sk-toggleable\"><input class=\"sk-toggleable__control sk-hidden--visually\" id=\"sk-estimator-id-25\" type=\"checkbox\" ><label for=\"sk-estimator-id-25\" class=\"sk-toggleable__label sk-toggleable__label-arrow\">ColumnTransformer</label><div class=\"sk-toggleable__content\"><pre>ColumnTransformer(transformers=[(&#x27;num&#x27;,\n",
       "                                 Pipeline(steps=[(&#x27;scaler&#x27;, MinMaxScaler())]),\n",
       "                                 [&#x27;value_CDD_18&#x27;, &#x27;value_CDD_21&#x27;,\n",
       "                                  &#x27;value_Global_Horizontal_Irrandiance&#x27;,\n",
       "                                  &#x27;value_HDD_16&#x27;, &#x27;value_HDD_18&#x27;,\n",
       "                                  &#x27;value_Heat_index&#x27;, &#x27;value_Relative_Humidty&#x27;,\n",
       "                                  &#x27;value_Temperature&#x27;,\n",
       "                                  &#x27;value_Total_Precipitation&#x27;]),\n",
       "                                (&#x27;cat&#x27;, OneHotEncoder(handle_unknown=&#x27;ignore&#x27;),\n",
       "                                 [&#x27;Country&#x27;])])</pre></div></div></div><div class=\"sk-parallel\"><div class=\"sk-parallel-item\"><div class=\"sk-item\"><div class=\"sk-label-container\"><div class=\"sk-label sk-toggleable\"><input class=\"sk-toggleable__control sk-hidden--visually\" id=\"sk-estimator-id-26\" type=\"checkbox\" ><label for=\"sk-estimator-id-26\" class=\"sk-toggleable__label sk-toggleable__label-arrow\">num</label><div class=\"sk-toggleable__content\"><pre>[&#x27;value_CDD_18&#x27;, &#x27;value_CDD_21&#x27;, &#x27;value_Global_Horizontal_Irrandiance&#x27;, &#x27;value_HDD_16&#x27;, &#x27;value_HDD_18&#x27;, &#x27;value_Heat_index&#x27;, &#x27;value_Relative_Humidty&#x27;, &#x27;value_Temperature&#x27;, &#x27;value_Total_Precipitation&#x27;]</pre></div></div></div><div class=\"sk-serial\"><div class=\"sk-item\"><div class=\"sk-serial\"><div class=\"sk-item\"><div class=\"sk-estimator sk-toggleable\"><input class=\"sk-toggleable__control sk-hidden--visually\" id=\"sk-estimator-id-27\" type=\"checkbox\" ><label for=\"sk-estimator-id-27\" class=\"sk-toggleable__label sk-toggleable__label-arrow\">MinMaxScaler</label><div class=\"sk-toggleable__content\"><pre>MinMaxScaler()</pre></div></div></div></div></div></div></div></div><div class=\"sk-parallel-item\"><div class=\"sk-item\"><div class=\"sk-label-container\"><div class=\"sk-label sk-toggleable\"><input class=\"sk-toggleable__control sk-hidden--visually\" id=\"sk-estimator-id-28\" type=\"checkbox\" ><label for=\"sk-estimator-id-28\" class=\"sk-toggleable__label sk-toggleable__label-arrow\">cat</label><div class=\"sk-toggleable__content\"><pre>[&#x27;Country&#x27;]</pre></div></div></div><div class=\"sk-serial\"><div class=\"sk-item\"><div class=\"sk-estimator sk-toggleable\"><input class=\"sk-toggleable__control sk-hidden--visually\" id=\"sk-estimator-id-29\" type=\"checkbox\" ><label for=\"sk-estimator-id-29\" class=\"sk-toggleable__label sk-toggleable__label-arrow\">OneHotEncoder</label><div class=\"sk-toggleable__content\"><pre>OneHotEncoder(handle_unknown=&#x27;ignore&#x27;)</pre></div></div></div></div></div></div></div></div></div></div>"
      ],
      "text/plain": [
       "ColumnTransformer(transformers=[('num',\n",
       "                                 Pipeline(steps=[('scaler', MinMaxScaler())]),\n",
       "                                 ['value_CDD_18', 'value_CDD_21',\n",
       "                                  'value_Global_Horizontal_Irrandiance',\n",
       "                                  'value_HDD_16', 'value_HDD_18',\n",
       "                                  'value_Heat_index', 'value_Relative_Humidty',\n",
       "                                  'value_Temperature',\n",
       "                                  'value_Total_Precipitation']),\n",
       "                                ('cat', OneHotEncoder(handle_unknown='ignore'),\n",
       "                                 ['Country'])])"
      ]
     },
     "execution_count": 29,
     "metadata": {},
     "output_type": "execute_result"
    }
   ],
=======
   "execution_count": null,
   "metadata": {},
   "outputs": [],
>>>>>>> a5af15a1d3c8793377ee05a03cccea4e5b64855b
   "source": [
    "# Init list of numerical columns\n",
    "num_features = X.select_dtypes(include=[np.number]).columns.tolist()\n",
    "\n",
    "# Create a preprocessing pipeline\n",
    "preprocessing_pipeline = ColumnTransformer(\n",
    "    transformers=[\n",
    "        # Preprocessing for numerical features\n",
    "        ('num', Pipeline(steps=[\n",
    "            ('scaler', MinMaxScaler())  # Scale features using MinMaxScaler\n",
    "        ]), num_features),\n",
    "        \n",
    "        # Preprocessing for categorical feature 'country'\n",
    "        ('cat', OneHotEncoder(handle_unknown='ignore'), ['Country'])\n",
    "    ])\n",
    "\n",
    "preprocessing_pipeline"
   ]
  },
  {
   "cell_type": "code",
<<<<<<< HEAD
   "execution_count": 30,
=======
   "execution_count": null,
>>>>>>> a5af15a1d3c8793377ee05a03cccea4e5b64855b
   "metadata": {},
   "outputs": [],
   "source": [
    "# X"
   ]
  },
  {
   "cell_type": "code",
<<<<<<< HEAD
   "execution_count": 31,
=======
   "execution_count": null,
>>>>>>> a5af15a1d3c8793377ee05a03cccea4e5b64855b
   "metadata": {},
   "outputs": [],
   "source": [
    "# y"
   ]
  },
  {
   "cell_type": "code",
<<<<<<< HEAD
   "execution_count": 32,
=======
   "execution_count": null,
>>>>>>> a5af15a1d3c8793377ee05a03cccea4e5b64855b
   "metadata": {},
   "outputs": [],
   "source": [
    "# Splitting the data into training and testing sets\n",
    "X_train, X_test, y_train, y_test = train_test_split(X, y, test_size=0.2, random_state=42)"
   ]
  },
  {
   "cell_type": "code",
<<<<<<< HEAD
   "execution_count": 33,
=======
   "execution_count": null,
>>>>>>> a5af15a1d3c8793377ee05a03cccea4e5b64855b
   "metadata": {},
   "outputs": [],
   "source": [
    "# Fit the preprocessing pipeline on the training data\n",
    "X_train_processed = preprocessing_pipeline.fit_transform(X_train)\n",
    "\n",
    "# Transform the testing data using the fitted pipeline\n",
    "X_test_processed = preprocessing_pipeline.transform(X_test)"
   ]
  },
  {
   "cell_type": "markdown",
   "metadata": {},
   "source": [
    "## --- Model Building with TPOT ---"
   ]
  },
  {
   "cell_type": "code",
<<<<<<< HEAD
   "execution_count": 34,
   "metadata": {},
   "outputs": [
    {
     "data": {
      "text/html": [
       "<style>#sk-container-id-6 {color: black;}#sk-container-id-6 pre{padding: 0;}#sk-container-id-6 div.sk-toggleable {background-color: white;}#sk-container-id-6 label.sk-toggleable__label {cursor: pointer;display: block;width: 100%;margin-bottom: 0;padding: 0.3em;box-sizing: border-box;text-align: center;}#sk-container-id-6 label.sk-toggleable__label-arrow:before {content: \"▸\";float: left;margin-right: 0.25em;color: #696969;}#sk-container-id-6 label.sk-toggleable__label-arrow:hover:before {color: black;}#sk-container-id-6 div.sk-estimator:hover label.sk-toggleable__label-arrow:before {color: black;}#sk-container-id-6 div.sk-toggleable__content {max-height: 0;max-width: 0;overflow: hidden;text-align: left;background-color: #f0f8ff;}#sk-container-id-6 div.sk-toggleable__content pre {margin: 0.2em;color: black;border-radius: 0.25em;background-color: #f0f8ff;}#sk-container-id-6 input.sk-toggleable__control:checked~div.sk-toggleable__content {max-height: 200px;max-width: 100%;overflow: auto;}#sk-container-id-6 input.sk-toggleable__control:checked~label.sk-toggleable__label-arrow:before {content: \"▾\";}#sk-container-id-6 div.sk-estimator input.sk-toggleable__control:checked~label.sk-toggleable__label {background-color: #d4ebff;}#sk-container-id-6 div.sk-label input.sk-toggleable__control:checked~label.sk-toggleable__label {background-color: #d4ebff;}#sk-container-id-6 input.sk-hidden--visually {border: 0;clip: rect(1px 1px 1px 1px);clip: rect(1px, 1px, 1px, 1px);height: 1px;margin: -1px;overflow: hidden;padding: 0;position: absolute;width: 1px;}#sk-container-id-6 div.sk-estimator {font-family: monospace;background-color: #f0f8ff;border: 1px dotted black;border-radius: 0.25em;box-sizing: border-box;margin-bottom: 0.5em;}#sk-container-id-6 div.sk-estimator:hover {background-color: #d4ebff;}#sk-container-id-6 div.sk-parallel-item::after {content: \"\";width: 100%;border-bottom: 1px solid gray;flex-grow: 1;}#sk-container-id-6 div.sk-label:hover label.sk-toggleable__label {background-color: #d4ebff;}#sk-container-id-6 div.sk-serial::before {content: \"\";position: absolute;border-left: 1px solid gray;box-sizing: border-box;top: 0;bottom: 0;left: 50%;z-index: 0;}#sk-container-id-6 div.sk-serial {display: flex;flex-direction: column;align-items: center;background-color: white;padding-right: 0.2em;padding-left: 0.2em;position: relative;}#sk-container-id-6 div.sk-item {position: relative;z-index: 1;}#sk-container-id-6 div.sk-parallel {display: flex;align-items: stretch;justify-content: center;background-color: white;position: relative;}#sk-container-id-6 div.sk-item::before, #sk-container-id-6 div.sk-parallel-item::before {content: \"\";position: absolute;border-left: 1px solid gray;box-sizing: border-box;top: 0;bottom: 0;left: 50%;z-index: -1;}#sk-container-id-6 div.sk-parallel-item {display: flex;flex-direction: column;z-index: 1;position: relative;background-color: white;}#sk-container-id-6 div.sk-parallel-item:first-child::after {align-self: flex-end;width: 50%;}#sk-container-id-6 div.sk-parallel-item:last-child::after {align-self: flex-start;width: 50%;}#sk-container-id-6 div.sk-parallel-item:only-child::after {width: 0;}#sk-container-id-6 div.sk-dashed-wrapped {border: 1px dashed gray;margin: 0 0.4em 0.5em 0.4em;box-sizing: border-box;padding-bottom: 0.4em;background-color: white;}#sk-container-id-6 div.sk-label label {font-family: monospace;font-weight: bold;display: inline-block;line-height: 1.2em;}#sk-container-id-6 div.sk-label-container {text-align: center;}#sk-container-id-6 div.sk-container {/* jupyter's `normalize.less` sets `[hidden] { display: none; }` but bootstrap.min.css set `[hidden] { display: none !important; }` so we also need the `!important` here to be able to override the default hidden behavior on the sphinx rendered scikit-learn.org. See: https://github.com/scikit-learn/scikit-learn/issues/21755 */display: inline-block !important;position: relative;}#sk-container-id-6 div.sk-text-repr-fallback {display: none;}</style><div id=\"sk-container-id-6\" class=\"sk-top-container\"><div class=\"sk-text-repr-fallback\"><pre>Pipeline(steps=[(&#x27;preprocessor&#x27;,\n",
       "                 ColumnTransformer(transformers=[(&#x27;num&#x27;,\n",
       "                                                  Pipeline(steps=[(&#x27;scaler&#x27;,\n",
       "                                                                   MinMaxScaler())]),\n",
       "                                                  [&#x27;value_CDD_18&#x27;,\n",
       "                                                   &#x27;value_CDD_21&#x27;,\n",
       "                                                   &#x27;value_Global_Horizontal_Irrandiance&#x27;,\n",
       "                                                   &#x27;value_HDD_16&#x27;,\n",
       "                                                   &#x27;value_HDD_18&#x27;,\n",
       "                                                   &#x27;value_Heat_index&#x27;,\n",
       "                                                   &#x27;value_Relative_Humidty&#x27;,\n",
       "                                                   &#x27;value_Temperature&#x27;,\n",
       "                                                   &#x27;value_Total_Precipitation&#x27;]),\n",
       "                                                 (&#x27;cat&#x27;,\n",
       "                                                  OneHotEncoder(handle_unknown=&#x27;ignore&#x27;),\n",
       "                                                  [&#x27;Country&#x27;])])),\n",
       "                (&#x27;tpot_regressor&#x27;,\n",
       "                 TPOTRegressor(config_dict=&#x27;TPOT sparse&#x27;, generations=5,\n",
       "                               population_size=50, random_state=42,\n",
       "                               verbosity=2))])</pre><b>In a Jupyter environment, please rerun this cell to show the HTML representation or trust the notebook. <br />On GitHub, the HTML representation is unable to render, please try loading this page with nbviewer.org.</b></div><div class=\"sk-container\" hidden><div class=\"sk-item sk-dashed-wrapped\"><div class=\"sk-label-container\"><div class=\"sk-label sk-toggleable\"><input class=\"sk-toggleable__control sk-hidden--visually\" id=\"sk-estimator-id-30\" type=\"checkbox\" ><label for=\"sk-estimator-id-30\" class=\"sk-toggleable__label sk-toggleable__label-arrow\">Pipeline</label><div class=\"sk-toggleable__content\"><pre>Pipeline(steps=[(&#x27;preprocessor&#x27;,\n",
       "                 ColumnTransformer(transformers=[(&#x27;num&#x27;,\n",
       "                                                  Pipeline(steps=[(&#x27;scaler&#x27;,\n",
       "                                                                   MinMaxScaler())]),\n",
       "                                                  [&#x27;value_CDD_18&#x27;,\n",
       "                                                   &#x27;value_CDD_21&#x27;,\n",
       "                                                   &#x27;value_Global_Horizontal_Irrandiance&#x27;,\n",
       "                                                   &#x27;value_HDD_16&#x27;,\n",
       "                                                   &#x27;value_HDD_18&#x27;,\n",
       "                                                   &#x27;value_Heat_index&#x27;,\n",
       "                                                   &#x27;value_Relative_Humidty&#x27;,\n",
       "                                                   &#x27;value_Temperature&#x27;,\n",
       "                                                   &#x27;value_Total_Precipitation&#x27;]),\n",
       "                                                 (&#x27;cat&#x27;,\n",
       "                                                  OneHotEncoder(handle_unknown=&#x27;ignore&#x27;),\n",
       "                                                  [&#x27;Country&#x27;])])),\n",
       "                (&#x27;tpot_regressor&#x27;,\n",
       "                 TPOTRegressor(config_dict=&#x27;TPOT sparse&#x27;, generations=5,\n",
       "                               population_size=50, random_state=42,\n",
       "                               verbosity=2))])</pre></div></div></div><div class=\"sk-serial\"><div class=\"sk-item sk-dashed-wrapped\"><div class=\"sk-label-container\"><div class=\"sk-label sk-toggleable\"><input class=\"sk-toggleable__control sk-hidden--visually\" id=\"sk-estimator-id-31\" type=\"checkbox\" ><label for=\"sk-estimator-id-31\" class=\"sk-toggleable__label sk-toggleable__label-arrow\">preprocessor: ColumnTransformer</label><div class=\"sk-toggleable__content\"><pre>ColumnTransformer(transformers=[(&#x27;num&#x27;,\n",
       "                                 Pipeline(steps=[(&#x27;scaler&#x27;, MinMaxScaler())]),\n",
       "                                 [&#x27;value_CDD_18&#x27;, &#x27;value_CDD_21&#x27;,\n",
       "                                  &#x27;value_Global_Horizontal_Irrandiance&#x27;,\n",
       "                                  &#x27;value_HDD_16&#x27;, &#x27;value_HDD_18&#x27;,\n",
       "                                  &#x27;value_Heat_index&#x27;, &#x27;value_Relative_Humidty&#x27;,\n",
       "                                  &#x27;value_Temperature&#x27;,\n",
       "                                  &#x27;value_Total_Precipitation&#x27;]),\n",
       "                                (&#x27;cat&#x27;, OneHotEncoder(handle_unknown=&#x27;ignore&#x27;),\n",
       "                                 [&#x27;Country&#x27;])])</pre></div></div></div><div class=\"sk-parallel\"><div class=\"sk-parallel-item\"><div class=\"sk-item\"><div class=\"sk-label-container\"><div class=\"sk-label sk-toggleable\"><input class=\"sk-toggleable__control sk-hidden--visually\" id=\"sk-estimator-id-32\" type=\"checkbox\" ><label for=\"sk-estimator-id-32\" class=\"sk-toggleable__label sk-toggleable__label-arrow\">num</label><div class=\"sk-toggleable__content\"><pre>[&#x27;value_CDD_18&#x27;, &#x27;value_CDD_21&#x27;, &#x27;value_Global_Horizontal_Irrandiance&#x27;, &#x27;value_HDD_16&#x27;, &#x27;value_HDD_18&#x27;, &#x27;value_Heat_index&#x27;, &#x27;value_Relative_Humidty&#x27;, &#x27;value_Temperature&#x27;, &#x27;value_Total_Precipitation&#x27;]</pre></div></div></div><div class=\"sk-serial\"><div class=\"sk-item\"><div class=\"sk-serial\"><div class=\"sk-item\"><div class=\"sk-estimator sk-toggleable\"><input class=\"sk-toggleable__control sk-hidden--visually\" id=\"sk-estimator-id-33\" type=\"checkbox\" ><label for=\"sk-estimator-id-33\" class=\"sk-toggleable__label sk-toggleable__label-arrow\">MinMaxScaler</label><div class=\"sk-toggleable__content\"><pre>MinMaxScaler()</pre></div></div></div></div></div></div></div></div><div class=\"sk-parallel-item\"><div class=\"sk-item\"><div class=\"sk-label-container\"><div class=\"sk-label sk-toggleable\"><input class=\"sk-toggleable__control sk-hidden--visually\" id=\"sk-estimator-id-34\" type=\"checkbox\" ><label for=\"sk-estimator-id-34\" class=\"sk-toggleable__label sk-toggleable__label-arrow\">cat</label><div class=\"sk-toggleable__content\"><pre>[&#x27;Country&#x27;]</pre></div></div></div><div class=\"sk-serial\"><div class=\"sk-item\"><div class=\"sk-estimator sk-toggleable\"><input class=\"sk-toggleable__control sk-hidden--visually\" id=\"sk-estimator-id-35\" type=\"checkbox\" ><label for=\"sk-estimator-id-35\" class=\"sk-toggleable__label sk-toggleable__label-arrow\">OneHotEncoder</label><div class=\"sk-toggleable__content\"><pre>OneHotEncoder(handle_unknown=&#x27;ignore&#x27;)</pre></div></div></div></div></div></div></div></div><div class=\"sk-item\"><div class=\"sk-estimator sk-toggleable\"><input class=\"sk-toggleable__control sk-hidden--visually\" id=\"sk-estimator-id-36\" type=\"checkbox\" ><label for=\"sk-estimator-id-36\" class=\"sk-toggleable__label sk-toggleable__label-arrow\">TPOTRegressor</label><div class=\"sk-toggleable__content\"><pre>TPOTRegressor(config_dict=&#x27;TPOT sparse&#x27;, generations=5, population_size=50,\n",
       "              random_state=42, verbosity=2)</pre></div></div></div></div></div></div></div>"
      ],
      "text/plain": [
       "Pipeline(steps=[('preprocessor',\n",
       "                 ColumnTransformer(transformers=[('num',\n",
       "                                                  Pipeline(steps=[('scaler',\n",
       "                                                                   MinMaxScaler())]),\n",
       "                                                  ['value_CDD_18',\n",
       "                                                   'value_CDD_21',\n",
       "                                                   'value_Global_Horizontal_Irrandiance',\n",
       "                                                   'value_HDD_16',\n",
       "                                                   'value_HDD_18',\n",
       "                                                   'value_Heat_index',\n",
       "                                                   'value_Relative_Humidty',\n",
       "                                                   'value_Temperature',\n",
       "                                                   'value_Total_Precipitation']),\n",
       "                                                 ('cat',\n",
       "                                                  OneHotEncoder(handle_unknown='ignore'),\n",
       "                                                  ['Country'])])),\n",
       "                ('tpot_regressor',\n",
       "                 TPOTRegressor(config_dict='TPOT sparse', generations=5,\n",
       "                               population_size=50, random_state=42,\n",
       "                               verbosity=2))])"
      ]
     },
     "execution_count": 34,
     "metadata": {},
     "output_type": "execute_result"
    }
   ],
=======
   "execution_count": null,
   "metadata": {},
   "outputs": [],
>>>>>>> a5af15a1d3c8793377ee05a03cccea4e5b64855b
   "source": [
    "# --- Model Building with TPOT ---\n",
    "# TPOT regressor for multi-target regression\n",
    "tpot_regressor = TPOTRegressor(generations=5, population_size=50, verbosity=2, random_state=42,\n",
    "                               config_dict='TPOT sparse', cv=5)\n",
    "\n",
    "# Pipeline including preprocessing and TPOT regressor\n",
    "pipeline = Pipeline(steps=[('preprocessor', preprocessing_pipeline),\n",
    "                           ('tpot_regressor', tpot_regressor)])\n",
    "\n",
    "pipeline"
   ]
  },
  {
   "cell_type": "code",
   "execution_count": null,
   "metadata": {},
<<<<<<< HEAD
   "outputs": [
    {
     "name": "stderr",
     "output_type": "stream",
     "text": [
      "/Users/FernandoSandoval/.pyenv/versions/3.10.6/envs/lewagon/lib/python3.10/site-packages/sklearn/utils/validation.py:1183: DataConversionWarning: A column-vector y was passed when a 1d array was expected. Please change the shape of y to (n_samples, ), for example using ravel().\n",
      "  y = column_or_1d(y, warn=True)\n"
     ]
    },
    {
     "data": {
      "application/vnd.jupyter.widget-view+json": {
       "model_id": "76ca0325c313465a9b3f1c7308bc96ad",
       "version_major": 2,
       "version_minor": 0
      },
      "text/plain": [
       "Optimization Progress:   0%|          | 0/300 [00:00<?, ?pipeline/s]"
      ]
     },
     "metadata": {},
     "output_type": "display_data"
    }
   ],
=======
   "outputs": [],
>>>>>>> a5af15a1d3c8793377ee05a03cccea4e5b64855b
   "source": [
    "# --- Model Training ---\n",
    "# Train the TPOT model\n",
    "pipeline.fit(X_train, y_train)"
   ]
  },
  {
   "cell_type": "code",
   "execution_count": null,
   "metadata": {},
   "outputs": [],
   "source": [
    "# --- Model Evaluation ---\n",
    "# Evaluate the best model found by TPOT\n",
    "y_pred = pipeline.predict(X_test)\n",
    "mse = mean_squared_error(y_test, y_pred)\n",
    "mae = mean_absolute_error(y_test, y_pred)\n",
    "\n",
    "# Output performance metrics\n",
    "print(\"Mean Squared Error:\", mse)\n",
    "print(\"Mean Absolute Error:\", mae)\n",
    "\n",
    "# Feature importance (TPOT might select a model where feature importance is not available)\n",
    "# Here, we're assuming TPOT selected a Random Forest model. If not, this part would need to be adjusted.\n",
    "if 'feature_importances_' in dir(pipeline.named_steps['tpot_regressor'].fitted_pipeline_[-1]):\n",
    "    feature_importances = pipeline.named_steps['tpot_regressor'].fitted_pipeline_[-1].feature_importances_\n",
    "\n",
    "    # Create a bar chart of feature importances\n",
    "    plt.barh(range(len(feature_importances)), feature_importances, align='center')\n",
    "    plt.yticks(range(len(feature_importances)), features.columns)\n",
    "    plt.xlabel('Feature Importance')\n",
    "    plt.ylabel('Feature')\n",
    "    plt.show()\n",
    "else:\n",
    "    print(\"Selected model does not support feature importances.\")"
   ]
  },
  {
   "cell_type": "code",
   "execution_count": null,
   "metadata": {},
   "outputs": [],
   "source": []
  }
 ],
 "metadata": {
  "kernelspec": {
   "display_name": "Python 3 (ipykernel)",
   "language": "python",
   "name": "python3"
  },
  "language_info": {
   "codemirror_mode": {
    "name": "ipython",
    "version": 3
   },
   "file_extension": ".py",
   "mimetype": "text/x-python",
   "name": "python",
   "nbconvert_exporter": "python",
   "pygments_lexer": "ipython3",
   "version": "3.10.6"
  },
  "toc": {
   "base_numbering": 1,
   "nav_menu": {},
   "number_sections": true,
   "sideBar": true,
   "skip_h1_title": false,
   "title_cell": "Table of Contents",
   "title_sidebar": "Contents",
   "toc_cell": false,
   "toc_position": {},
   "toc_section_display": true,
   "toc_window_display": false
  }
 },
 "nbformat": 4,
 "nbformat_minor": 2
}
