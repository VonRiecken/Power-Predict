{
 "cells": [
  {
   "cell_type": "code",
   "execution_count": null,
   "metadata": {},
   "outputs": [],
   "source": [
    "!pip install --upgrade tpot"
   ]
  },
  {
   "cell_type": "code",
   "execution_count": 1,
   "metadata": {},
   "outputs": [],
   "source": [
    "import pandas as pd\n",
    "import numpy as np\n",
    "from sklearn.model_selection import train_test_split\n",
    "from sklearn.impute import SimpleImputer\n",
    "from sklearn.preprocessing import MinMaxScaler, OneHotEncoder\n",
    "from sklearn.pipeline import Pipeline\n",
    "from sklearn.compose import ColumnTransformer\n",
    "from tpot import TPOTRegressor\n",
    "from sklearn.metrics import mean_squared_error, mean_absolute_error\n",
    "import matplotlib.pyplot as plt\n",
    "import pickle\n"
   ]
  },
  {
   "cell_type": "code",
   "execution_count": 2,
   "metadata": {},
   "outputs": [
    {
     "data": {
      "text/html": [
       "<div>\n",
       "<style scoped>\n",
       "    .dataframe tbody tr th:only-of-type {\n",
       "        vertical-align: middle;\n",
       "    }\n",
       "\n",
       "    .dataframe tbody tr th {\n",
       "        vertical-align: top;\n",
       "    }\n",
       "\n",
       "    .dataframe thead th {\n",
       "        text-align: right;\n",
       "    }\n",
       "</style>\n",
       "<table border=\"1\" class=\"dataframe\">\n",
       "  <thead>\n",
       "    <tr style=\"text-align: right;\">\n",
       "      <th></th>\n",
       "      <th>Unnamed: 0</th>\n",
       "      <th>Month_year</th>\n",
       "      <th>Country</th>\n",
       "      <th>Balance</th>\n",
       "      <th>Combustible Renewables</th>\n",
       "      <th>Hydro</th>\n",
       "      <th>Other Renewables</th>\n",
       "      <th>Solar</th>\n",
       "      <th>Total Renewables (Hydro, Geo, Solar, Wind, Other)</th>\n",
       "      <th>Wind</th>\n",
       "      <th>value_CDD_18</th>\n",
       "      <th>value_CDD_21</th>\n",
       "      <th>value_Global_Horizontal_Irrandiance</th>\n",
       "      <th>value_HDD_16</th>\n",
       "      <th>value_HDD_18</th>\n",
       "      <th>value_Heat_index</th>\n",
       "      <th>value_Relative_Humidty</th>\n",
       "      <th>value_Temperature</th>\n",
       "      <th>value_Total_Precipitation</th>\n",
       "      <th>total target (wind, solar, hydro)</th>\n",
       "    </tr>\n",
       "  </thead>\n",
       "  <tbody>\n",
       "    <tr>\n",
       "      <th>0</th>\n",
       "      <td>0</td>\n",
       "      <td>2010-04-01</td>\n",
       "      <td>Australia</td>\n",
       "      <td>Net Electricity Production</td>\n",
       "      <td>216.287</td>\n",
       "      <td>1044.406</td>\n",
       "      <td>0.00</td>\n",
       "      <td>26.811</td>\n",
       "      <td>1638.098</td>\n",
       "      <td>350.511</td>\n",
       "      <td>48.13000</td>\n",
       "      <td>12.620000</td>\n",
       "      <td>720994.0</td>\n",
       "      <td>17.47</td>\n",
       "      <td>37.08</td>\n",
       "      <td>18.410</td>\n",
       "      <td>57.37</td>\n",
       "      <td>23.210</td>\n",
       "      <td>0.05483</td>\n",
       "      <td>1421.728</td>\n",
       "    </tr>\n",
       "    <tr>\n",
       "      <th>1</th>\n",
       "      <td>1</td>\n",
       "      <td>2010-04-01</td>\n",
       "      <td>Austria</td>\n",
       "      <td>Net Electricity Production</td>\n",
       "      <td>350.383</td>\n",
       "      <td>2504.130</td>\n",
       "      <td>0.00</td>\n",
       "      <td>9.965</td>\n",
       "      <td>2995.696</td>\n",
       "      <td>131.107</td>\n",
       "      <td>0.05449</td>\n",
       "      <td>0.000000</td>\n",
       "      <td>736161.0</td>\n",
       "      <td>228.90</td>\n",
       "      <td>287.80</td>\n",
       "      <td>8.410</td>\n",
       "      <td>69.85</td>\n",
       "      <td>6.748</td>\n",
       "      <td>0.10510</td>\n",
       "      <td>2645.202</td>\n",
       "    </tr>\n",
       "    <tr>\n",
       "      <th>2</th>\n",
       "      <td>2</td>\n",
       "      <td>2010-04-01</td>\n",
       "      <td>Belgium</td>\n",
       "      <td>Net Electricity Production</td>\n",
       "      <td>383.177</td>\n",
       "      <td>141.898</td>\n",
       "      <td>0.00</td>\n",
       "      <td>80.419</td>\n",
       "      <td>702.509</td>\n",
       "      <td>97.015</td>\n",
       "      <td>0.99160</td>\n",
       "      <td>0.000000</td>\n",
       "      <td>723195.0</td>\n",
       "      <td>195.80</td>\n",
       "      <td>253.70</td>\n",
       "      <td>9.577</td>\n",
       "      <td>67.90</td>\n",
       "      <td>9.322</td>\n",
       "      <td>0.03999</td>\n",
       "      <td>319.332</td>\n",
       "    </tr>\n",
       "    <tr>\n",
       "      <th>3</th>\n",
       "      <td>3</td>\n",
       "      <td>2010-04-01</td>\n",
       "      <td>Canada</td>\n",
       "      <td>Net Electricity Production</td>\n",
       "      <td>712.988</td>\n",
       "      <td>28243.738</td>\n",
       "      <td>2.44</td>\n",
       "      <td>24.184</td>\n",
       "      <td>29709.301</td>\n",
       "      <td>725.951</td>\n",
       "      <td>0.06883</td>\n",
       "      <td>0.000023</td>\n",
       "      <td>679927.0</td>\n",
       "      <td>246.70</td>\n",
       "      <td>306.20</td>\n",
       "      <td>7.797</td>\n",
       "      <td>70.85</td>\n",
       "      <td>-1.708</td>\n",
       "      <td>0.05456</td>\n",
       "      <td>28993.873</td>\n",
       "    </tr>\n",
       "    <tr>\n",
       "      <th>4</th>\n",
       "      <td>4</td>\n",
       "      <td>2010-04-01</td>\n",
       "      <td>Chile</td>\n",
       "      <td>Net Electricity Production</td>\n",
       "      <td>152.826</td>\n",
       "      <td>1740.416</td>\n",
       "      <td>0.00</td>\n",
       "      <td>0.000</td>\n",
       "      <td>1913.601</td>\n",
       "      <td>20.359</td>\n",
       "      <td>1.41100</td>\n",
       "      <td>0.040190</td>\n",
       "      <td>578355.0</td>\n",
       "      <td>113.00</td>\n",
       "      <td>168.30</td>\n",
       "      <td>12.440</td>\n",
       "      <td>66.58</td>\n",
       "      <td>9.672</td>\n",
       "      <td>0.15780</td>\n",
       "      <td>1760.775</td>\n",
       "    </tr>\n",
       "  </tbody>\n",
       "</table>\n",
       "</div>"
      ],
      "text/plain": [
       "   Unnamed: 0  Month_year    Country                     Balance  \\\n",
       "0           0  2010-04-01  Australia  Net Electricity Production   \n",
       "1           1  2010-04-01    Austria  Net Electricity Production   \n",
       "2           2  2010-04-01    Belgium  Net Electricity Production   \n",
       "3           3  2010-04-01     Canada  Net Electricity Production   \n",
       "4           4  2010-04-01      Chile  Net Electricity Production   \n",
       "\n",
       "   Combustible Renewables      Hydro  Other Renewables   Solar  \\\n",
       "0                 216.287   1044.406              0.00  26.811   \n",
       "1                 350.383   2504.130              0.00   9.965   \n",
       "2                 383.177    141.898              0.00  80.419   \n",
       "3                 712.988  28243.738              2.44  24.184   \n",
       "4                 152.826   1740.416              0.00   0.000   \n",
       "\n",
       "   Total Renewables (Hydro, Geo, Solar, Wind, Other)     Wind  value_CDD_18  \\\n",
       "0                                           1638.098  350.511      48.13000   \n",
       "1                                           2995.696  131.107       0.05449   \n",
       "2                                            702.509   97.015       0.99160   \n",
       "3                                          29709.301  725.951       0.06883   \n",
       "4                                           1913.601   20.359       1.41100   \n",
       "\n",
       "   value_CDD_21  value_Global_Horizontal_Irrandiance  value_HDD_16  \\\n",
       "0     12.620000                             720994.0         17.47   \n",
       "1      0.000000                             736161.0        228.90   \n",
       "2      0.000000                             723195.0        195.80   \n",
       "3      0.000023                             679927.0        246.70   \n",
       "4      0.040190                             578355.0        113.00   \n",
       "\n",
       "   value_HDD_18  value_Heat_index  value_Relative_Humidty  value_Temperature  \\\n",
       "0         37.08            18.410                   57.37             23.210   \n",
       "1        287.80             8.410                   69.85              6.748   \n",
       "2        253.70             9.577                   67.90              9.322   \n",
       "3        306.20             7.797                   70.85             -1.708   \n",
       "4        168.30            12.440                   66.58              9.672   \n",
       "\n",
       "   value_Total_Precipitation  total target (wind, solar, hydro)  \n",
       "0                    0.05483                           1421.728  \n",
       "1                    0.10510                           2645.202  \n",
       "2                    0.03999                            319.332  \n",
       "3                    0.05456                          28993.873  \n",
       "4                    0.15780                           1760.775  "
      ]
     },
     "execution_count": 2,
     "metadata": {},
     "output_type": "execute_result"
    }
   ],
   "source": [
    "# --- Data Collection and Preparation ---\n",
    "df = pd.read_csv('../power_predict/data/merged_dataset.csv') \n",
    "df.head(5)"
   ]
  },
  {
   "cell_type": "code",
   "execution_count": 6,
   "metadata": {},
   "outputs": [],
   "source": [
    "# df.columns"
   ]
  },
  {
   "cell_type": "code",
   "execution_count": 7,
   "metadata": {},
   "outputs": [],
   "source": [
    "# df.dtypes"
   ]
  },
  {
   "cell_type": "markdown",
   "metadata": {},
   "source": [
    "## --- Data Preprocessing ---"
   ]
  },
  {
   "cell_type": "code",
   "execution_count": 8,
   "metadata": {},
   "outputs": [],
   "source": [
    "# --- Data Preprocessing ---\n",
    "\n",
    "# Setting Country + Month year as Index\n",
    "df['Country_Month'] = df['Country'] + '_' + df['Month_year'].astype(str)\n",
    "df = df.set_index('Country_Month')\n",
    "\n",
    "# Separating features and target variables\n",
    "X = df.drop(['Unnamed: 0', 'Month_year', 'Balance',\n",
    "       'Combustible Renewables', 'Hydro', 'Other Renewables', 'Solar',\n",
    "       'Total Renewables (Hydro, Geo, Solar, Wind, Other)', 'Wind',\n",
    "       'total target (wind, solar, hydro)'], axis=1) \n",
    "y = df['total target (wind, solar, hydro)'].values.ravel()  ### TPOT can only handle one target at a time, expects 1D array!\n",
    "\n",
    "# y = df[['Solar', 'Hydro', 'Wind','total target (wind, solar, hydro)']] "
   ]
  },
  {
   "cell_type": "code",
   "execution_count": 9,
   "metadata": {},
   "outputs": [
    {
     "data": {
      "text/html": [
       "<style>#sk-container-id-1 {color: black;}#sk-container-id-1 pre{padding: 0;}#sk-container-id-1 div.sk-toggleable {background-color: white;}#sk-container-id-1 label.sk-toggleable__label {cursor: pointer;display: block;width: 100%;margin-bottom: 0;padding: 0.3em;box-sizing: border-box;text-align: center;}#sk-container-id-1 label.sk-toggleable__label-arrow:before {content: \"▸\";float: left;margin-right: 0.25em;color: #696969;}#sk-container-id-1 label.sk-toggleable__label-arrow:hover:before {color: black;}#sk-container-id-1 div.sk-estimator:hover label.sk-toggleable__label-arrow:before {color: black;}#sk-container-id-1 div.sk-toggleable__content {max-height: 0;max-width: 0;overflow: hidden;text-align: left;background-color: #f0f8ff;}#sk-container-id-1 div.sk-toggleable__content pre {margin: 0.2em;color: black;border-radius: 0.25em;background-color: #f0f8ff;}#sk-container-id-1 input.sk-toggleable__control:checked~div.sk-toggleable__content {max-height: 200px;max-width: 100%;overflow: auto;}#sk-container-id-1 input.sk-toggleable__control:checked~label.sk-toggleable__label-arrow:before {content: \"▾\";}#sk-container-id-1 div.sk-estimator input.sk-toggleable__control:checked~label.sk-toggleable__label {background-color: #d4ebff;}#sk-container-id-1 div.sk-label input.sk-toggleable__control:checked~label.sk-toggleable__label {background-color: #d4ebff;}#sk-container-id-1 input.sk-hidden--visually {border: 0;clip: rect(1px 1px 1px 1px);clip: rect(1px, 1px, 1px, 1px);height: 1px;margin: -1px;overflow: hidden;padding: 0;position: absolute;width: 1px;}#sk-container-id-1 div.sk-estimator {font-family: monospace;background-color: #f0f8ff;border: 1px dotted black;border-radius: 0.25em;box-sizing: border-box;margin-bottom: 0.5em;}#sk-container-id-1 div.sk-estimator:hover {background-color: #d4ebff;}#sk-container-id-1 div.sk-parallel-item::after {content: \"\";width: 100%;border-bottom: 1px solid gray;flex-grow: 1;}#sk-container-id-1 div.sk-label:hover label.sk-toggleable__label {background-color: #d4ebff;}#sk-container-id-1 div.sk-serial::before {content: \"\";position: absolute;border-left: 1px solid gray;box-sizing: border-box;top: 0;bottom: 0;left: 50%;z-index: 0;}#sk-container-id-1 div.sk-serial {display: flex;flex-direction: column;align-items: center;background-color: white;padding-right: 0.2em;padding-left: 0.2em;position: relative;}#sk-container-id-1 div.sk-item {position: relative;z-index: 1;}#sk-container-id-1 div.sk-parallel {display: flex;align-items: stretch;justify-content: center;background-color: white;position: relative;}#sk-container-id-1 div.sk-item::before, #sk-container-id-1 div.sk-parallel-item::before {content: \"\";position: absolute;border-left: 1px solid gray;box-sizing: border-box;top: 0;bottom: 0;left: 50%;z-index: -1;}#sk-container-id-1 div.sk-parallel-item {display: flex;flex-direction: column;z-index: 1;position: relative;background-color: white;}#sk-container-id-1 div.sk-parallel-item:first-child::after {align-self: flex-end;width: 50%;}#sk-container-id-1 div.sk-parallel-item:last-child::after {align-self: flex-start;width: 50%;}#sk-container-id-1 div.sk-parallel-item:only-child::after {width: 0;}#sk-container-id-1 div.sk-dashed-wrapped {border: 1px dashed gray;margin: 0 0.4em 0.5em 0.4em;box-sizing: border-box;padding-bottom: 0.4em;background-color: white;}#sk-container-id-1 div.sk-label label {font-family: monospace;font-weight: bold;display: inline-block;line-height: 1.2em;}#sk-container-id-1 div.sk-label-container {text-align: center;}#sk-container-id-1 div.sk-container {/* jupyter's `normalize.less` sets `[hidden] { display: none; }` but bootstrap.min.css set `[hidden] { display: none !important; }` so we also need the `!important` here to be able to override the default hidden behavior on the sphinx rendered scikit-learn.org. See: https://github.com/scikit-learn/scikit-learn/issues/21755 */display: inline-block !important;position: relative;}#sk-container-id-1 div.sk-text-repr-fallback {display: none;}</style><div id=\"sk-container-id-1\" class=\"sk-top-container\"><div class=\"sk-text-repr-fallback\"><pre>ColumnTransformer(transformers=[(&#x27;num&#x27;,\n",
       "                                 Pipeline(steps=[(&#x27;scaler&#x27;, MinMaxScaler())]),\n",
       "                                 [&#x27;value_CDD_18&#x27;, &#x27;value_CDD_21&#x27;,\n",
       "                                  &#x27;value_Global_Horizontal_Irrandiance&#x27;,\n",
       "                                  &#x27;value_HDD_16&#x27;, &#x27;value_HDD_18&#x27;,\n",
       "                                  &#x27;value_Heat_index&#x27;, &#x27;value_Relative_Humidty&#x27;,\n",
       "                                  &#x27;value_Temperature&#x27;,\n",
       "                                  &#x27;value_Total_Precipitation&#x27;]),\n",
       "                                (&#x27;cat&#x27;, OneHotEncoder(handle_unknown=&#x27;ignore&#x27;),\n",
       "                                 [&#x27;Country&#x27;])])</pre><b>In a Jupyter environment, please rerun this cell to show the HTML representation or trust the notebook. <br />On GitHub, the HTML representation is unable to render, please try loading this page with nbviewer.org.</b></div><div class=\"sk-container\" hidden><div class=\"sk-item sk-dashed-wrapped\"><div class=\"sk-label-container\"><div class=\"sk-label sk-toggleable\"><input class=\"sk-toggleable__control sk-hidden--visually\" id=\"sk-estimator-id-1\" type=\"checkbox\" ><label for=\"sk-estimator-id-1\" class=\"sk-toggleable__label sk-toggleable__label-arrow\">ColumnTransformer</label><div class=\"sk-toggleable__content\"><pre>ColumnTransformer(transformers=[(&#x27;num&#x27;,\n",
       "                                 Pipeline(steps=[(&#x27;scaler&#x27;, MinMaxScaler())]),\n",
       "                                 [&#x27;value_CDD_18&#x27;, &#x27;value_CDD_21&#x27;,\n",
       "                                  &#x27;value_Global_Horizontal_Irrandiance&#x27;,\n",
       "                                  &#x27;value_HDD_16&#x27;, &#x27;value_HDD_18&#x27;,\n",
       "                                  &#x27;value_Heat_index&#x27;, &#x27;value_Relative_Humidty&#x27;,\n",
       "                                  &#x27;value_Temperature&#x27;,\n",
       "                                  &#x27;value_Total_Precipitation&#x27;]),\n",
       "                                (&#x27;cat&#x27;, OneHotEncoder(handle_unknown=&#x27;ignore&#x27;),\n",
       "                                 [&#x27;Country&#x27;])])</pre></div></div></div><div class=\"sk-parallel\"><div class=\"sk-parallel-item\"><div class=\"sk-item\"><div class=\"sk-label-container\"><div class=\"sk-label sk-toggleable\"><input class=\"sk-toggleable__control sk-hidden--visually\" id=\"sk-estimator-id-2\" type=\"checkbox\" ><label for=\"sk-estimator-id-2\" class=\"sk-toggleable__label sk-toggleable__label-arrow\">num</label><div class=\"sk-toggleable__content\"><pre>[&#x27;value_CDD_18&#x27;, &#x27;value_CDD_21&#x27;, &#x27;value_Global_Horizontal_Irrandiance&#x27;, &#x27;value_HDD_16&#x27;, &#x27;value_HDD_18&#x27;, &#x27;value_Heat_index&#x27;, &#x27;value_Relative_Humidty&#x27;, &#x27;value_Temperature&#x27;, &#x27;value_Total_Precipitation&#x27;]</pre></div></div></div><div class=\"sk-serial\"><div class=\"sk-item\"><div class=\"sk-serial\"><div class=\"sk-item\"><div class=\"sk-estimator sk-toggleable\"><input class=\"sk-toggleable__control sk-hidden--visually\" id=\"sk-estimator-id-3\" type=\"checkbox\" ><label for=\"sk-estimator-id-3\" class=\"sk-toggleable__label sk-toggleable__label-arrow\">MinMaxScaler</label><div class=\"sk-toggleable__content\"><pre>MinMaxScaler()</pre></div></div></div></div></div></div></div></div><div class=\"sk-parallel-item\"><div class=\"sk-item\"><div class=\"sk-label-container\"><div class=\"sk-label sk-toggleable\"><input class=\"sk-toggleable__control sk-hidden--visually\" id=\"sk-estimator-id-4\" type=\"checkbox\" ><label for=\"sk-estimator-id-4\" class=\"sk-toggleable__label sk-toggleable__label-arrow\">cat</label><div class=\"sk-toggleable__content\"><pre>[&#x27;Country&#x27;]</pre></div></div></div><div class=\"sk-serial\"><div class=\"sk-item\"><div class=\"sk-estimator sk-toggleable\"><input class=\"sk-toggleable__control sk-hidden--visually\" id=\"sk-estimator-id-5\" type=\"checkbox\" ><label for=\"sk-estimator-id-5\" class=\"sk-toggleable__label sk-toggleable__label-arrow\">OneHotEncoder</label><div class=\"sk-toggleable__content\"><pre>OneHotEncoder(handle_unknown=&#x27;ignore&#x27;)</pre></div></div></div></div></div></div></div></div></div></div>"
      ],
      "text/plain": [
       "ColumnTransformer(transformers=[('num',\n",
       "                                 Pipeline(steps=[('scaler', MinMaxScaler())]),\n",
       "                                 ['value_CDD_18', 'value_CDD_21',\n",
       "                                  'value_Global_Horizontal_Irrandiance',\n",
       "                                  'value_HDD_16', 'value_HDD_18',\n",
       "                                  'value_Heat_index', 'value_Relative_Humidty',\n",
       "                                  'value_Temperature',\n",
       "                                  'value_Total_Precipitation']),\n",
       "                                ('cat', OneHotEncoder(handle_unknown='ignore'),\n",
       "                                 ['Country'])])"
      ]
     },
     "execution_count": 9,
     "metadata": {},
     "output_type": "execute_result"
    }
   ],
   "source": [
    "# Init list of numerical columns\n",
    "num_features = X.select_dtypes(include=[np.number]).columns.tolist()\n",
    "\n",
    "# Create a preprocessing pipeline\n",
    "preprocessing_pipeline = ColumnTransformer(\n",
    "    transformers=[\n",
    "        # Preprocessing for numerical features\n",
    "        ('num', Pipeline(steps=[\n",
    "            ('scaler', MinMaxScaler())  # Scale features using MinMaxScaler\n",
    "        ]), num_features),\n",
    "        \n",
    "        # Preprocessing for categorical feature 'country'\n",
    "        ('cat', OneHotEncoder(handle_unknown='ignore'), ['Country'])\n",
    "    ])\n",
    "\n",
    "preprocessing_pipeline"
   ]
  },
  {
   "cell_type": "code",
   "execution_count": 10,
   "metadata": {},
   "outputs": [],
   "source": [
    "# X"
   ]
  },
  {
   "cell_type": "code",
   "execution_count": 11,
   "metadata": {},
   "outputs": [],
   "source": [
    "# y"
   ]
  },
  {
   "cell_type": "code",
   "execution_count": 12,
   "metadata": {},
   "outputs": [],
   "source": [
    "# Splitting the data into training and testing sets\n",
    "X_train, X_test, y_train, y_test = train_test_split(X, y, test_size=0.2, random_state=42)"
   ]
  },
  {
   "cell_type": "code",
   "execution_count": 13,
   "metadata": {},
   "outputs": [],
   "source": [
    "# Fit the preprocessing pipeline on the training data\n",
    "X_train_processed = preprocessing_pipeline.fit_transform(X_train)\n",
    "\n",
    "# Transform the testing data using the fitted pipeline\n",
    "X_test_processed = preprocessing_pipeline.transform(X_test)"
   ]
  },
  {
   "cell_type": "markdown",
   "metadata": {},
   "source": [
    "## --- Model Building with TPOT ---"
   ]
  },
  {
   "cell_type": "code",
   "execution_count": 14,
   "metadata": {},
   "outputs": [
    {
     "data": {
      "text/html": [
       "<style>#sk-container-id-2 {color: black;}#sk-container-id-2 pre{padding: 0;}#sk-container-id-2 div.sk-toggleable {background-color: white;}#sk-container-id-2 label.sk-toggleable__label {cursor: pointer;display: block;width: 100%;margin-bottom: 0;padding: 0.3em;box-sizing: border-box;text-align: center;}#sk-container-id-2 label.sk-toggleable__label-arrow:before {content: \"▸\";float: left;margin-right: 0.25em;color: #696969;}#sk-container-id-2 label.sk-toggleable__label-arrow:hover:before {color: black;}#sk-container-id-2 div.sk-estimator:hover label.sk-toggleable__label-arrow:before {color: black;}#sk-container-id-2 div.sk-toggleable__content {max-height: 0;max-width: 0;overflow: hidden;text-align: left;background-color: #f0f8ff;}#sk-container-id-2 div.sk-toggleable__content pre {margin: 0.2em;color: black;border-radius: 0.25em;background-color: #f0f8ff;}#sk-container-id-2 input.sk-toggleable__control:checked~div.sk-toggleable__content {max-height: 200px;max-width: 100%;overflow: auto;}#sk-container-id-2 input.sk-toggleable__control:checked~label.sk-toggleable__label-arrow:before {content: \"▾\";}#sk-container-id-2 div.sk-estimator input.sk-toggleable__control:checked~label.sk-toggleable__label {background-color: #d4ebff;}#sk-container-id-2 div.sk-label input.sk-toggleable__control:checked~label.sk-toggleable__label {background-color: #d4ebff;}#sk-container-id-2 input.sk-hidden--visually {border: 0;clip: rect(1px 1px 1px 1px);clip: rect(1px, 1px, 1px, 1px);height: 1px;margin: -1px;overflow: hidden;padding: 0;position: absolute;width: 1px;}#sk-container-id-2 div.sk-estimator {font-family: monospace;background-color: #f0f8ff;border: 1px dotted black;border-radius: 0.25em;box-sizing: border-box;margin-bottom: 0.5em;}#sk-container-id-2 div.sk-estimator:hover {background-color: #d4ebff;}#sk-container-id-2 div.sk-parallel-item::after {content: \"\";width: 100%;border-bottom: 1px solid gray;flex-grow: 1;}#sk-container-id-2 div.sk-label:hover label.sk-toggleable__label {background-color: #d4ebff;}#sk-container-id-2 div.sk-serial::before {content: \"\";position: absolute;border-left: 1px solid gray;box-sizing: border-box;top: 0;bottom: 0;left: 50%;z-index: 0;}#sk-container-id-2 div.sk-serial {display: flex;flex-direction: column;align-items: center;background-color: white;padding-right: 0.2em;padding-left: 0.2em;position: relative;}#sk-container-id-2 div.sk-item {position: relative;z-index: 1;}#sk-container-id-2 div.sk-parallel {display: flex;align-items: stretch;justify-content: center;background-color: white;position: relative;}#sk-container-id-2 div.sk-item::before, #sk-container-id-2 div.sk-parallel-item::before {content: \"\";position: absolute;border-left: 1px solid gray;box-sizing: border-box;top: 0;bottom: 0;left: 50%;z-index: -1;}#sk-container-id-2 div.sk-parallel-item {display: flex;flex-direction: column;z-index: 1;position: relative;background-color: white;}#sk-container-id-2 div.sk-parallel-item:first-child::after {align-self: flex-end;width: 50%;}#sk-container-id-2 div.sk-parallel-item:last-child::after {align-self: flex-start;width: 50%;}#sk-container-id-2 div.sk-parallel-item:only-child::after {width: 0;}#sk-container-id-2 div.sk-dashed-wrapped {border: 1px dashed gray;margin: 0 0.4em 0.5em 0.4em;box-sizing: border-box;padding-bottom: 0.4em;background-color: white;}#sk-container-id-2 div.sk-label label {font-family: monospace;font-weight: bold;display: inline-block;line-height: 1.2em;}#sk-container-id-2 div.sk-label-container {text-align: center;}#sk-container-id-2 div.sk-container {/* jupyter's `normalize.less` sets `[hidden] { display: none; }` but bootstrap.min.css set `[hidden] { display: none !important; }` so we also need the `!important` here to be able to override the default hidden behavior on the sphinx rendered scikit-learn.org. See: https://github.com/scikit-learn/scikit-learn/issues/21755 */display: inline-block !important;position: relative;}#sk-container-id-2 div.sk-text-repr-fallback {display: none;}</style><div id=\"sk-container-id-2\" class=\"sk-top-container\"><div class=\"sk-text-repr-fallback\"><pre>Pipeline(steps=[(&#x27;preprocessor&#x27;,\n",
       "                 ColumnTransformer(transformers=[(&#x27;num&#x27;,\n",
       "                                                  Pipeline(steps=[(&#x27;scaler&#x27;,\n",
       "                                                                   MinMaxScaler())]),\n",
       "                                                  [&#x27;value_CDD_18&#x27;,\n",
       "                                                   &#x27;value_CDD_21&#x27;,\n",
       "                                                   &#x27;value_Global_Horizontal_Irrandiance&#x27;,\n",
       "                                                   &#x27;value_HDD_16&#x27;,\n",
       "                                                   &#x27;value_HDD_18&#x27;,\n",
       "                                                   &#x27;value_Heat_index&#x27;,\n",
       "                                                   &#x27;value_Relative_Humidty&#x27;,\n",
       "                                                   &#x27;value_Temperature&#x27;,\n",
       "                                                   &#x27;value_Total_Precipitation&#x27;]),\n",
       "                                                 (&#x27;cat&#x27;,\n",
       "                                                  OneHotEncoder(handle_unknown=&#x27;ignore&#x27;),\n",
       "                                                  [&#x27;Country&#x27;])])),\n",
       "                (&#x27;tpot_regressor&#x27;,\n",
       "                 TPOTRegressor(config_dict=&#x27;TPOT sparse&#x27;, generations=5,\n",
       "                               population_size=50, random_state=42,\n",
       "                               verbosity=2))])</pre><b>In a Jupyter environment, please rerun this cell to show the HTML representation or trust the notebook. <br />On GitHub, the HTML representation is unable to render, please try loading this page with nbviewer.org.</b></div><div class=\"sk-container\" hidden><div class=\"sk-item sk-dashed-wrapped\"><div class=\"sk-label-container\"><div class=\"sk-label sk-toggleable\"><input class=\"sk-toggleable__control sk-hidden--visually\" id=\"sk-estimator-id-6\" type=\"checkbox\" ><label for=\"sk-estimator-id-6\" class=\"sk-toggleable__label sk-toggleable__label-arrow\">Pipeline</label><div class=\"sk-toggleable__content\"><pre>Pipeline(steps=[(&#x27;preprocessor&#x27;,\n",
       "                 ColumnTransformer(transformers=[(&#x27;num&#x27;,\n",
       "                                                  Pipeline(steps=[(&#x27;scaler&#x27;,\n",
       "                                                                   MinMaxScaler())]),\n",
       "                                                  [&#x27;value_CDD_18&#x27;,\n",
       "                                                   &#x27;value_CDD_21&#x27;,\n",
       "                                                   &#x27;value_Global_Horizontal_Irrandiance&#x27;,\n",
       "                                                   &#x27;value_HDD_16&#x27;,\n",
       "                                                   &#x27;value_HDD_18&#x27;,\n",
       "                                                   &#x27;value_Heat_index&#x27;,\n",
       "                                                   &#x27;value_Relative_Humidty&#x27;,\n",
       "                                                   &#x27;value_Temperature&#x27;,\n",
       "                                                   &#x27;value_Total_Precipitation&#x27;]),\n",
       "                                                 (&#x27;cat&#x27;,\n",
       "                                                  OneHotEncoder(handle_unknown=&#x27;ignore&#x27;),\n",
       "                                                  [&#x27;Country&#x27;])])),\n",
       "                (&#x27;tpot_regressor&#x27;,\n",
       "                 TPOTRegressor(config_dict=&#x27;TPOT sparse&#x27;, generations=5,\n",
       "                               population_size=50, random_state=42,\n",
       "                               verbosity=2))])</pre></div></div></div><div class=\"sk-serial\"><div class=\"sk-item sk-dashed-wrapped\"><div class=\"sk-label-container\"><div class=\"sk-label sk-toggleable\"><input class=\"sk-toggleable__control sk-hidden--visually\" id=\"sk-estimator-id-7\" type=\"checkbox\" ><label for=\"sk-estimator-id-7\" class=\"sk-toggleable__label sk-toggleable__label-arrow\">preprocessor: ColumnTransformer</label><div class=\"sk-toggleable__content\"><pre>ColumnTransformer(transformers=[(&#x27;num&#x27;,\n",
       "                                 Pipeline(steps=[(&#x27;scaler&#x27;, MinMaxScaler())]),\n",
       "                                 [&#x27;value_CDD_18&#x27;, &#x27;value_CDD_21&#x27;,\n",
       "                                  &#x27;value_Global_Horizontal_Irrandiance&#x27;,\n",
       "                                  &#x27;value_HDD_16&#x27;, &#x27;value_HDD_18&#x27;,\n",
       "                                  &#x27;value_Heat_index&#x27;, &#x27;value_Relative_Humidty&#x27;,\n",
       "                                  &#x27;value_Temperature&#x27;,\n",
       "                                  &#x27;value_Total_Precipitation&#x27;]),\n",
       "                                (&#x27;cat&#x27;, OneHotEncoder(handle_unknown=&#x27;ignore&#x27;),\n",
       "                                 [&#x27;Country&#x27;])])</pre></div></div></div><div class=\"sk-parallel\"><div class=\"sk-parallel-item\"><div class=\"sk-item\"><div class=\"sk-label-container\"><div class=\"sk-label sk-toggleable\"><input class=\"sk-toggleable__control sk-hidden--visually\" id=\"sk-estimator-id-8\" type=\"checkbox\" ><label for=\"sk-estimator-id-8\" class=\"sk-toggleable__label sk-toggleable__label-arrow\">num</label><div class=\"sk-toggleable__content\"><pre>[&#x27;value_CDD_18&#x27;, &#x27;value_CDD_21&#x27;, &#x27;value_Global_Horizontal_Irrandiance&#x27;, &#x27;value_HDD_16&#x27;, &#x27;value_HDD_18&#x27;, &#x27;value_Heat_index&#x27;, &#x27;value_Relative_Humidty&#x27;, &#x27;value_Temperature&#x27;, &#x27;value_Total_Precipitation&#x27;]</pre></div></div></div><div class=\"sk-serial\"><div class=\"sk-item\"><div class=\"sk-serial\"><div class=\"sk-item\"><div class=\"sk-estimator sk-toggleable\"><input class=\"sk-toggleable__control sk-hidden--visually\" id=\"sk-estimator-id-9\" type=\"checkbox\" ><label for=\"sk-estimator-id-9\" class=\"sk-toggleable__label sk-toggleable__label-arrow\">MinMaxScaler</label><div class=\"sk-toggleable__content\"><pre>MinMaxScaler()</pre></div></div></div></div></div></div></div></div><div class=\"sk-parallel-item\"><div class=\"sk-item\"><div class=\"sk-label-container\"><div class=\"sk-label sk-toggleable\"><input class=\"sk-toggleable__control sk-hidden--visually\" id=\"sk-estimator-id-10\" type=\"checkbox\" ><label for=\"sk-estimator-id-10\" class=\"sk-toggleable__label sk-toggleable__label-arrow\">cat</label><div class=\"sk-toggleable__content\"><pre>[&#x27;Country&#x27;]</pre></div></div></div><div class=\"sk-serial\"><div class=\"sk-item\"><div class=\"sk-estimator sk-toggleable\"><input class=\"sk-toggleable__control sk-hidden--visually\" id=\"sk-estimator-id-11\" type=\"checkbox\" ><label for=\"sk-estimator-id-11\" class=\"sk-toggleable__label sk-toggleable__label-arrow\">OneHotEncoder</label><div class=\"sk-toggleable__content\"><pre>OneHotEncoder(handle_unknown=&#x27;ignore&#x27;)</pre></div></div></div></div></div></div></div></div><div class=\"sk-item\"><div class=\"sk-estimator sk-toggleable\"><input class=\"sk-toggleable__control sk-hidden--visually\" id=\"sk-estimator-id-12\" type=\"checkbox\" ><label for=\"sk-estimator-id-12\" class=\"sk-toggleable__label sk-toggleable__label-arrow\">TPOTRegressor</label><div class=\"sk-toggleable__content\"><pre>TPOTRegressor(config_dict=&#x27;TPOT sparse&#x27;, generations=5, population_size=50,\n",
       "              random_state=42, verbosity=2)</pre></div></div></div></div></div></div></div>"
      ],
      "text/plain": [
       "Pipeline(steps=[('preprocessor',\n",
       "                 ColumnTransformer(transformers=[('num',\n",
       "                                                  Pipeline(steps=[('scaler',\n",
       "                                                                   MinMaxScaler())]),\n",
       "                                                  ['value_CDD_18',\n",
       "                                                   'value_CDD_21',\n",
       "                                                   'value_Global_Horizontal_Irrandiance',\n",
       "                                                   'value_HDD_16',\n",
       "                                                   'value_HDD_18',\n",
       "                                                   'value_Heat_index',\n",
       "                                                   'value_Relative_Humidty',\n",
       "                                                   'value_Temperature',\n",
       "                                                   'value_Total_Precipitation']),\n",
       "                                                 ('cat',\n",
       "                                                  OneHotEncoder(handle_unknown='ignore'),\n",
       "                                                  ['Country'])])),\n",
       "                ('tpot_regressor',\n",
       "                 TPOTRegressor(config_dict='TPOT sparse', generations=5,\n",
       "                               population_size=50, random_state=42,\n",
       "                               verbosity=2))])"
      ]
     },
     "execution_count": 14,
     "metadata": {},
     "output_type": "execute_result"
    }
   ],
   "source": [
    "# --- Model Building with TPOT ---\n",
    "# TPOT regressor for multi-target regression\n",
    "tpot_regressor = TPOTRegressor(generations=5, population_size=50, verbosity=2, random_state=42,\n",
    "                               config_dict='TPOT sparse', cv=5)\n",
    "\n",
    "# Pipeline including preprocessing and TPOT regressor\n",
    "pipeline = Pipeline(steps=[('preprocessor', preprocessing_pipeline),\n",
    "                           ('tpot_regressor', tpot_regressor)])\n",
    "\n",
    "pipeline"
   ]
  },
  {
   "cell_type": "markdown",
   "metadata": {},
   "source": [
    "## --- Model Training and Saving ---"
   ]
  },
  {
   "cell_type": "code",
   "execution_count": 15,
   "metadata": {},
   "outputs": [
    {
     "data": {
      "application/vnd.jupyter.widget-view+json": {
       "model_id": "",
       "version_major": 2,
       "version_minor": 0
      },
      "text/plain": [
       "Optimization Progress:   0%|          | 0/300 [00:00<?, ?pipeline/s]"
      ]
     },
     "metadata": {},
     "output_type": "display_data"
    },
    {
     "name": "stdout",
     "output_type": "stream",
     "text": [
      "\n",
      "Generation 1 - Current best internal CV score: -28648681.68566545\n",
      "\n",
      "Generation 2 - Current best internal CV score: -28283781.20621275\n",
      "\n",
      "Generation 3 - Current best internal CV score: -28283781.20621275\n",
      "\n",
      "Generation 4 - Current best internal CV score: -28283781.20621275\n",
      "\n",
      "Generation 5 - Current best internal CV score: -28283781.20621275\n",
      "\n",
      "Best pipeline: KNeighborsRegressor(input_matrix, n_neighbors=20, p=2, weights=uniform)\n"
     ]
    },
    {
     "data": {
      "text/html": [
       "<style>#sk-container-id-3 {color: black;}#sk-container-id-3 pre{padding: 0;}#sk-container-id-3 div.sk-toggleable {background-color: white;}#sk-container-id-3 label.sk-toggleable__label {cursor: pointer;display: block;width: 100%;margin-bottom: 0;padding: 0.3em;box-sizing: border-box;text-align: center;}#sk-container-id-3 label.sk-toggleable__label-arrow:before {content: \"▸\";float: left;margin-right: 0.25em;color: #696969;}#sk-container-id-3 label.sk-toggleable__label-arrow:hover:before {color: black;}#sk-container-id-3 div.sk-estimator:hover label.sk-toggleable__label-arrow:before {color: black;}#sk-container-id-3 div.sk-toggleable__content {max-height: 0;max-width: 0;overflow: hidden;text-align: left;background-color: #f0f8ff;}#sk-container-id-3 div.sk-toggleable__content pre {margin: 0.2em;color: black;border-radius: 0.25em;background-color: #f0f8ff;}#sk-container-id-3 input.sk-toggleable__control:checked~div.sk-toggleable__content {max-height: 200px;max-width: 100%;overflow: auto;}#sk-container-id-3 input.sk-toggleable__control:checked~label.sk-toggleable__label-arrow:before {content: \"▾\";}#sk-container-id-3 div.sk-estimator input.sk-toggleable__control:checked~label.sk-toggleable__label {background-color: #d4ebff;}#sk-container-id-3 div.sk-label input.sk-toggleable__control:checked~label.sk-toggleable__label {background-color: #d4ebff;}#sk-container-id-3 input.sk-hidden--visually {border: 0;clip: rect(1px 1px 1px 1px);clip: rect(1px, 1px, 1px, 1px);height: 1px;margin: -1px;overflow: hidden;padding: 0;position: absolute;width: 1px;}#sk-container-id-3 div.sk-estimator {font-family: monospace;background-color: #f0f8ff;border: 1px dotted black;border-radius: 0.25em;box-sizing: border-box;margin-bottom: 0.5em;}#sk-container-id-3 div.sk-estimator:hover {background-color: #d4ebff;}#sk-container-id-3 div.sk-parallel-item::after {content: \"\";width: 100%;border-bottom: 1px solid gray;flex-grow: 1;}#sk-container-id-3 div.sk-label:hover label.sk-toggleable__label {background-color: #d4ebff;}#sk-container-id-3 div.sk-serial::before {content: \"\";position: absolute;border-left: 1px solid gray;box-sizing: border-box;top: 0;bottom: 0;left: 50%;z-index: 0;}#sk-container-id-3 div.sk-serial {display: flex;flex-direction: column;align-items: center;background-color: white;padding-right: 0.2em;padding-left: 0.2em;position: relative;}#sk-container-id-3 div.sk-item {position: relative;z-index: 1;}#sk-container-id-3 div.sk-parallel {display: flex;align-items: stretch;justify-content: center;background-color: white;position: relative;}#sk-container-id-3 div.sk-item::before, #sk-container-id-3 div.sk-parallel-item::before {content: \"\";position: absolute;border-left: 1px solid gray;box-sizing: border-box;top: 0;bottom: 0;left: 50%;z-index: -1;}#sk-container-id-3 div.sk-parallel-item {display: flex;flex-direction: column;z-index: 1;position: relative;background-color: white;}#sk-container-id-3 div.sk-parallel-item:first-child::after {align-self: flex-end;width: 50%;}#sk-container-id-3 div.sk-parallel-item:last-child::after {align-self: flex-start;width: 50%;}#sk-container-id-3 div.sk-parallel-item:only-child::after {width: 0;}#sk-container-id-3 div.sk-dashed-wrapped {border: 1px dashed gray;margin: 0 0.4em 0.5em 0.4em;box-sizing: border-box;padding-bottom: 0.4em;background-color: white;}#sk-container-id-3 div.sk-label label {font-family: monospace;font-weight: bold;display: inline-block;line-height: 1.2em;}#sk-container-id-3 div.sk-label-container {text-align: center;}#sk-container-id-3 div.sk-container {/* jupyter's `normalize.less` sets `[hidden] { display: none; }` but bootstrap.min.css set `[hidden] { display: none !important; }` so we also need the `!important` here to be able to override the default hidden behavior on the sphinx rendered scikit-learn.org. See: https://github.com/scikit-learn/scikit-learn/issues/21755 */display: inline-block !important;position: relative;}#sk-container-id-3 div.sk-text-repr-fallback {display: none;}</style><div id=\"sk-container-id-3\" class=\"sk-top-container\"><div class=\"sk-text-repr-fallback\"><pre>Pipeline(steps=[(&#x27;preprocessor&#x27;,\n",
       "                 ColumnTransformer(transformers=[(&#x27;num&#x27;,\n",
       "                                                  Pipeline(steps=[(&#x27;scaler&#x27;,\n",
       "                                                                   MinMaxScaler())]),\n",
       "                                                  [&#x27;value_CDD_18&#x27;,\n",
       "                                                   &#x27;value_CDD_21&#x27;,\n",
       "                                                   &#x27;value_Global_Horizontal_Irrandiance&#x27;,\n",
       "                                                   &#x27;value_HDD_16&#x27;,\n",
       "                                                   &#x27;value_HDD_18&#x27;,\n",
       "                                                   &#x27;value_Heat_index&#x27;,\n",
       "                                                   &#x27;value_Relative_Humidty&#x27;,\n",
       "                                                   &#x27;value_Temperature&#x27;,\n",
       "                                                   &#x27;value_Total_Precipitation&#x27;]),\n",
       "                                                 (&#x27;cat&#x27;,\n",
       "                                                  OneHotEncoder(handle_unknown=&#x27;ignore&#x27;),\n",
       "                                                  [&#x27;Country&#x27;])])),\n",
       "                (&#x27;tpot_regressor&#x27;,\n",
       "                 TPOTRegressor(config_dict=&#x27;TPOT sparse&#x27;, generations=5,\n",
       "                               population_size=50, random_state=42,\n",
       "                               verbosity=2))])</pre><b>In a Jupyter environment, please rerun this cell to show the HTML representation or trust the notebook. <br />On GitHub, the HTML representation is unable to render, please try loading this page with nbviewer.org.</b></div><div class=\"sk-container\" hidden><div class=\"sk-item sk-dashed-wrapped\"><div class=\"sk-label-container\"><div class=\"sk-label sk-toggleable\"><input class=\"sk-toggleable__control sk-hidden--visually\" id=\"sk-estimator-id-13\" type=\"checkbox\" ><label for=\"sk-estimator-id-13\" class=\"sk-toggleable__label sk-toggleable__label-arrow\">Pipeline</label><div class=\"sk-toggleable__content\"><pre>Pipeline(steps=[(&#x27;preprocessor&#x27;,\n",
       "                 ColumnTransformer(transformers=[(&#x27;num&#x27;,\n",
       "                                                  Pipeline(steps=[(&#x27;scaler&#x27;,\n",
       "                                                                   MinMaxScaler())]),\n",
       "                                                  [&#x27;value_CDD_18&#x27;,\n",
       "                                                   &#x27;value_CDD_21&#x27;,\n",
       "                                                   &#x27;value_Global_Horizontal_Irrandiance&#x27;,\n",
       "                                                   &#x27;value_HDD_16&#x27;,\n",
       "                                                   &#x27;value_HDD_18&#x27;,\n",
       "                                                   &#x27;value_Heat_index&#x27;,\n",
       "                                                   &#x27;value_Relative_Humidty&#x27;,\n",
       "                                                   &#x27;value_Temperature&#x27;,\n",
       "                                                   &#x27;value_Total_Precipitation&#x27;]),\n",
       "                                                 (&#x27;cat&#x27;,\n",
       "                                                  OneHotEncoder(handle_unknown=&#x27;ignore&#x27;),\n",
       "                                                  [&#x27;Country&#x27;])])),\n",
       "                (&#x27;tpot_regressor&#x27;,\n",
       "                 TPOTRegressor(config_dict=&#x27;TPOT sparse&#x27;, generations=5,\n",
       "                               population_size=50, random_state=42,\n",
       "                               verbosity=2))])</pre></div></div></div><div class=\"sk-serial\"><div class=\"sk-item sk-dashed-wrapped\"><div class=\"sk-label-container\"><div class=\"sk-label sk-toggleable\"><input class=\"sk-toggleable__control sk-hidden--visually\" id=\"sk-estimator-id-14\" type=\"checkbox\" ><label for=\"sk-estimator-id-14\" class=\"sk-toggleable__label sk-toggleable__label-arrow\">preprocessor: ColumnTransformer</label><div class=\"sk-toggleable__content\"><pre>ColumnTransformer(transformers=[(&#x27;num&#x27;,\n",
       "                                 Pipeline(steps=[(&#x27;scaler&#x27;, MinMaxScaler())]),\n",
       "                                 [&#x27;value_CDD_18&#x27;, &#x27;value_CDD_21&#x27;,\n",
       "                                  &#x27;value_Global_Horizontal_Irrandiance&#x27;,\n",
       "                                  &#x27;value_HDD_16&#x27;, &#x27;value_HDD_18&#x27;,\n",
       "                                  &#x27;value_Heat_index&#x27;, &#x27;value_Relative_Humidty&#x27;,\n",
       "                                  &#x27;value_Temperature&#x27;,\n",
       "                                  &#x27;value_Total_Precipitation&#x27;]),\n",
       "                                (&#x27;cat&#x27;, OneHotEncoder(handle_unknown=&#x27;ignore&#x27;),\n",
       "                                 [&#x27;Country&#x27;])])</pre></div></div></div><div class=\"sk-parallel\"><div class=\"sk-parallel-item\"><div class=\"sk-item\"><div class=\"sk-label-container\"><div class=\"sk-label sk-toggleable\"><input class=\"sk-toggleable__control sk-hidden--visually\" id=\"sk-estimator-id-15\" type=\"checkbox\" ><label for=\"sk-estimator-id-15\" class=\"sk-toggleable__label sk-toggleable__label-arrow\">num</label><div class=\"sk-toggleable__content\"><pre>[&#x27;value_CDD_18&#x27;, &#x27;value_CDD_21&#x27;, &#x27;value_Global_Horizontal_Irrandiance&#x27;, &#x27;value_HDD_16&#x27;, &#x27;value_HDD_18&#x27;, &#x27;value_Heat_index&#x27;, &#x27;value_Relative_Humidty&#x27;, &#x27;value_Temperature&#x27;, &#x27;value_Total_Precipitation&#x27;]</pre></div></div></div><div class=\"sk-serial\"><div class=\"sk-item\"><div class=\"sk-serial\"><div class=\"sk-item\"><div class=\"sk-estimator sk-toggleable\"><input class=\"sk-toggleable__control sk-hidden--visually\" id=\"sk-estimator-id-16\" type=\"checkbox\" ><label for=\"sk-estimator-id-16\" class=\"sk-toggleable__label sk-toggleable__label-arrow\">MinMaxScaler</label><div class=\"sk-toggleable__content\"><pre>MinMaxScaler()</pre></div></div></div></div></div></div></div></div><div class=\"sk-parallel-item\"><div class=\"sk-item\"><div class=\"sk-label-container\"><div class=\"sk-label sk-toggleable\"><input class=\"sk-toggleable__control sk-hidden--visually\" id=\"sk-estimator-id-17\" type=\"checkbox\" ><label for=\"sk-estimator-id-17\" class=\"sk-toggleable__label sk-toggleable__label-arrow\">cat</label><div class=\"sk-toggleable__content\"><pre>[&#x27;Country&#x27;]</pre></div></div></div><div class=\"sk-serial\"><div class=\"sk-item\"><div class=\"sk-estimator sk-toggleable\"><input class=\"sk-toggleable__control sk-hidden--visually\" id=\"sk-estimator-id-18\" type=\"checkbox\" ><label for=\"sk-estimator-id-18\" class=\"sk-toggleable__label sk-toggleable__label-arrow\">OneHotEncoder</label><div class=\"sk-toggleable__content\"><pre>OneHotEncoder(handle_unknown=&#x27;ignore&#x27;)</pre></div></div></div></div></div></div></div></div><div class=\"sk-item\"><div class=\"sk-estimator sk-toggleable\"><input class=\"sk-toggleable__control sk-hidden--visually\" id=\"sk-estimator-id-19\" type=\"checkbox\" ><label for=\"sk-estimator-id-19\" class=\"sk-toggleable__label sk-toggleable__label-arrow\">TPOTRegressor</label><div class=\"sk-toggleable__content\"><pre>TPOTRegressor(config_dict=&#x27;TPOT sparse&#x27;, generations=5, population_size=50,\n",
       "              random_state=42, verbosity=2)</pre></div></div></div></div></div></div></div>"
      ],
      "text/plain": [
       "Pipeline(steps=[('preprocessor',\n",
       "                 ColumnTransformer(transformers=[('num',\n",
       "                                                  Pipeline(steps=[('scaler',\n",
       "                                                                   MinMaxScaler())]),\n",
       "                                                  ['value_CDD_18',\n",
       "                                                   'value_CDD_21',\n",
       "                                                   'value_Global_Horizontal_Irrandiance',\n",
       "                                                   'value_HDD_16',\n",
       "                                                   'value_HDD_18',\n",
       "                                                   'value_Heat_index',\n",
       "                                                   'value_Relative_Humidty',\n",
       "                                                   'value_Temperature',\n",
       "                                                   'value_Total_Precipitation']),\n",
       "                                                 ('cat',\n",
       "                                                  OneHotEncoder(handle_unknown='ignore'),\n",
       "                                                  ['Country'])])),\n",
       "                ('tpot_regressor',\n",
       "                 TPOTRegressor(config_dict='TPOT sparse', generations=5,\n",
       "                               population_size=50, random_state=42,\n",
       "                               verbosity=2))])"
      ]
     },
     "execution_count": 15,
     "metadata": {},
     "output_type": "execute_result"
    }
   ],
   "source": [
    "# --- Model Training and Saving ---\n",
    "# Train the TPOT model\n",
    "pipeline.fit(X_train_processed, y_train)"
   ]
  },
  {
   "cell_type": "code",
   "execution_count": 16,
   "metadata": {},
   "outputs": [],
   "source": [
    "# Save fitted pipe\n",
    "with open(\"tpot_model.pkl\", \"wb\") as file:\n",
    "    pickle.dump(tpot.fitted_pipeline_, file)"
   ]
  },
  {
   "cell_type": "code",
   "execution_count": 17,
   "metadata": {},
   "outputs": [],
   "source": [
    "# Save TPOT's Internal Model Configuration\n",
    "tpot_config = tpot_regressor.config_dict\n",
    "with open('tpot_config.pkl', 'wb') as file:\n",
    "    pickle.dump(tpot_config, file)\n"
   ]
  },
  {
   "cell_type": "code",
   "execution_count": null,
   "metadata": {},
   "outputs": [],
   "source": [
    "# Save params and metrics\n",
    "tpot_config = tpot_regressor.config_dict\n",
    "with open('tpot_config.pkl', 'wb') as file:\n",
    "    pickle.dump(tpot_config, file)\n"
   ]
  },
  {
   "cell_type": "markdown",
   "metadata": {},
   "source": [
    "## --- Model Evaluation ---"
   ]
  },
  {
   "cell_type": "code",
   "execution_count": null,
   "metadata": {},
   "outputs": [],
   "source": [
    "# --- Model Evaluation ---\n",
    "# Evaluate the best model found by TPOT\n",
    "y_pred = pipeline.predict(X_test_processed)\n",
    "mse = mean_squared_error(y_test, y_pred)\n",
    "mae = mean_absolute_error(y_test, y_pred)\n",
    "\n",
    "# Output performance metrics\n",
    "print(\"Mean Squared Error:\", mse)\n",
    "print(\"Mean Absolute Error:\", mae)\n",
    "\n",
    "# Feature importance (TPOT might select a model where feature importance is not available)\n",
    "# Here, we're assuming TPOT selected a Random Forest model. If not, this part would need to be adjusted.\n",
    "if 'feature_importances_' in dir(pipeline.named_steps['tpot_regressor'].fitted_pipeline_[-1]):\n",
    "    feature_importances = pipeline.named_steps['tpot_regressor'].fitted_pipeline_[-1].feature_importances_\n",
    "\n",
    "    # Create a bar chart of feature importances\n",
    "    plt.barh(range(len(feature_importances)), feature_importances, align='center')\n",
    "    plt.yticks(range(len(feature_importances)), features.columns)\n",
    "    plt.xlabel('Feature Importance')\n",
    "    plt.ylabel('Feature')\n",
    "    plt.show()\n",
    "else:\n",
    "    print(\"Selected model does not support feature importances.\")"
   ]
  },
  {
   "cell_type": "code",
   "execution_count": null,
   "metadata": {},
   "outputs": [],
   "source": []
  }
 ],
 "metadata": {
  "kernelspec": {
   "display_name": "Python 3 (ipykernel)",
   "language": "python",
   "name": "python3"
  },
  "language_info": {
   "codemirror_mode": {
    "name": "ipython",
    "version": 3
   },
   "file_extension": ".py",
   "mimetype": "text/x-python",
   "name": "python",
   "nbconvert_exporter": "python",
   "pygments_lexer": "ipython3",
   "version": "3.10.6"
  },
  "toc": {
   "base_numbering": 1,
   "nav_menu": {},
   "number_sections": true,
   "sideBar": true,
   "skip_h1_title": false,
   "title_cell": "Table of Contents",
   "title_sidebar": "Contents",
   "toc_cell": false,
   "toc_position": {},
   "toc_section_display": true,
   "toc_window_display": false
  }
 },
 "nbformat": 4,
 "nbformat_minor": 2
}
